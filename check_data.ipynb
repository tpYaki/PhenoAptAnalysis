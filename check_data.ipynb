{
 "cells": [
  {
   "cell_type": "code",
   "execution_count": 8,
   "id": "bf6f7fbd-bdca-4690-8f8d-92969f253d4b",
   "metadata": {},
   "outputs": [],
   "source": [
    "b_dict ={}\n",
    "a= ['a','b']\n",
    "b_dict['c']=a \n",
    "b_dict\n",
    "b_dict['d'] = a+a"
   ]
  },
  {
   "cell_type": "code",
   "execution_count": 7,
   "id": "e2cda7e8-66bc-4383-8a5c-ffdf2ec50194",
   "metadata": {},
   "outputs": [
    {
     "data": {
      "text/plain": [
       "['a', 'b', 'a', 'b']"
      ]
     },
     "execution_count": 9,
     "metadata": {},
     "output_type": "execute_result"
    }
   ],
   "source": [
    "b_dict['c']"
   ]
  },
  {
   "cell_type": "code",
   "execution_count": 2,
   "id": "17dcdd7d-e7ec-48e6-9b5d-5c6643afa817",
   "metadata": {},
   "outputs": [
    {
     "name": "stdout",
     "output_type": "stream",
     "text": [
      "Adding extra dir to sys.path: /Users/liyaqi/PycharmProjects\n",
      "['/Users/liyaqi/PycharmProjects/PhenoAptAnalysis', '/Users/liyaqi/.pyenv/versions/3.10.7/lib/python310.zip', '/Users/liyaqi/.pyenv/versions/3.10.7/lib/python3.10', '/Users/liyaqi/.pyenv/versions/3.10.7/lib/python3.10/lib-dynload', '', '/Users/liyaqi/.pyenv/versions/3.10.7/envs/jupyterlab/lib/python3.10/site-packages', '/Users/liyaqi/.pyenv/versions/3.10.7/envs/jupyterlab/lib/python3.10/site-packages/aeosa', '/Users/liyaqi/PycharmProjects']\n"
     ]
    }
   ],
   "source": [
    "# Custom module paths\n",
    "\n",
    "from script.process_file_script import *\n",
    "from script.process_file_script import read_gvcf_diagnosis_xlsx\n",
    "from script.functions import *\n",
    "from script.file_prepare_script import *\n",
    "from script.Integrated_tools import *"
   ]
  },
  {
   "cell_type": "code",
   "execution_count": 7,
   "id": "b9459ff9-9bb3-43ff-aadb-4214289b0658",
   "metadata": {},
   "outputs": [
    {
     "ename": "NameError",
     "evalue": "name 'thresh' is not defined",
     "output_type": "error",
     "traceback": [
      "\u001b[0;31m---------------------------------------------------------------------------\u001b[0m",
      "\u001b[0;31mNameError\u001b[0m                                 Traceback (most recent call last)",
      "Cell \u001b[0;32mIn [7], line 1\u001b[0m\n\u001b[0;32m----> 1\u001b[0m pd\u001b[38;5;241m.\u001b[39mread_csv(\u001b[38;5;124mf\u001b[39m\u001b[38;5;124m'\u001b[39m\u001b[38;5;132;01m{\u001b[39;00mpwd\u001b[38;5;132;01m}\u001b[39;00m\u001b[38;5;124m/\u001b[39m\u001b[38;5;132;01m{\u001b[39;00mfilename\u001b[38;5;132;01m}\u001b[39;00m\u001b[38;5;124m/revel_\u001b[39m\u001b[38;5;132;01m{\u001b[39;00mthresh\u001b[38;5;132;01m}\u001b[39;00m\u001b[38;5;124m/\u001b[39m\u001b[38;5;132;01m{\u001b[39;00mcase_id\u001b[38;5;132;01m}\u001b[39;00m\u001b[38;5;124m.txt\u001b[39m\u001b[38;5;124m'\u001b[39m, sep\u001b[38;5;241m=\u001b[39m\u001b[38;5;124m\"\u001b[39m\u001b[38;5;130;01m\\t\u001b[39;00m\u001b[38;5;124m\"\u001b[39m)\n",
      "\u001b[0;31mNameError\u001b[0m: name 'thresh' is not defined"
     ]
    }
   ],
   "source": [
    "pd.read_csv(f'{pwd}/{filename}/revel_{thresh}/{case_id}.txt', sep=\"\\t\")"
   ]
  },
  {
   "cell_type": "code",
   "execution_count": 6,
   "id": "7f057682-c86f-4108-bb44-eac0861735b5",
   "metadata": {},
   "outputs": [
    {
     "name": "stderr",
     "output_type": "stream",
     "text": [
      "  0%|                                                    | 0/50 [00:00<?, ?it/s]\n"
     ]
    },
    {
     "name": "stdout",
     "output_type": "stream",
     "text": [
      "ENSG00000149922\n"
     ]
    },
    {
     "ename": "TypeError",
     "evalue": "read_csv() got an unexpected keyword argument 'index'",
     "output_type": "error",
     "traceback": [
      "\u001b[0;31m---------------------------------------------------------------------------\u001b[0m",
      "\u001b[0;31mTypeError\u001b[0m                                 Traceback (most recent call last)",
      "Cell \u001b[0;32mIn [6], line 93\u001b[0m\n\u001b[1;32m     90\u001b[0m                     part_table\u001b[38;5;241m.\u001b[39mloc[i, \u001b[38;5;124mf\u001b[39m\u001b[38;5;124m'\u001b[39m\u001b[38;5;124mPhenoGenius_rank_CADD_\u001b[39m\u001b[38;5;132;01m{\u001b[39;00mthresh\u001b[38;5;132;01m}\u001b[39;00m\u001b[38;5;124m'\u001b[39m], part_rr_table\u001b[38;5;241m.\u001b[39mloc[i, \u001b[38;5;124mf\u001b[39m\u001b[38;5;124m'\u001b[39m\u001b[38;5;124mPhenoGenius_rank_CADD_\u001b[39m\u001b[38;5;132;01m{\u001b[39;00mthresh\u001b[38;5;132;01m}\u001b[39;00m\u001b[38;5;124m'\u001b[39m] \u001b[38;5;241m=\u001b[39m get_rank(symbol,\n\u001b[1;32m     91\u001b[0m                                                                                                                PhenoGenius_gene_SYMBOL_cadd_list)\n\u001b[1;32m     92\u001b[0m     \u001b[38;5;28;01mreturn\u001b[39;00m part_table,part_rr_table\n\u001b[0;32m---> 93\u001b[0m a,b\u001b[38;5;241m=\u001b[39m\u001b[43mstatistic_to_table\u001b[49m\u001b[43m(\u001b[49m\u001b[43mdf\u001b[49m\u001b[43m,\u001b[49m\u001b[43mpwd\u001b[49m\u001b[43m,\u001b[49m\u001b[43mfilename\u001b[49m\u001b[43m,\u001b[49m\u001b[38;5;124;43m'\u001b[39;49m\u001b[38;5;124;43mhpo_id\u001b[39;49m\u001b[38;5;124;43m'\u001b[39;49m\u001b[43m,\u001b[49m\u001b[43mtools\u001b[49m\u001b[38;5;241;43m=\u001b[39;49m\u001b[43m[\u001b[49m\u001b[38;5;124;43m'\u001b[39;49m\u001b[38;5;124;43mPhenoGenius\u001b[39;49m\u001b[38;5;124;43m'\u001b[39;49m\u001b[43m]\u001b[49m\u001b[43m,\u001b[49m\u001b[43mintersect\u001b[49m\u001b[38;5;241;43m=\u001b[39;49m\u001b[38;5;28;43;01mTrue\u001b[39;49;00m\u001b[43m,\u001b[49m\u001b[43mREVEL_thresh\u001b[49m\u001b[38;5;241;43m=\u001b[39;49m\u001b[43m[\u001b[49m\u001b[38;5;241;43m0.25\u001b[39;49m\u001b[43m,\u001b[49m\u001b[38;5;241;43m0.5\u001b[39;49m\u001b[43m,\u001b[49m\u001b[38;5;241;43m0.75\u001b[39;49m\u001b[43m]\u001b[49m\u001b[43m,\u001b[49m\u001b[43mCADD_thresh\u001b[49m\u001b[38;5;241;43m=\u001b[39;49m\u001b[43m[\u001b[49m\u001b[38;5;241;43m10\u001b[39;49m\u001b[43m,\u001b[49m\u001b[38;5;241;43m15\u001b[39;49m\u001b[43m,\u001b[49m\u001b[38;5;241;43m20\u001b[39;49m\u001b[43m]\u001b[49m\u001b[43m)\u001b[49m\n",
      "Cell \u001b[0;32mIn [6], line 48\u001b[0m, in \u001b[0;36mstatistic_to_table\u001b[0;34m(df, pwd, filename, hpo, tools, intersect, REVEL_thresh, CADD_thresh)\u001b[0m\n\u001b[1;32m     46\u001b[0m tsv_candidate_gene_ensemblid_revel_dict \u001b[38;5;241m=\u001b[39m {}\n\u001b[1;32m     47\u001b[0m \u001b[38;5;28;01mfor\u001b[39;00m thresh \u001b[38;5;129;01min\u001b[39;00m REVEL_thresh:\n\u001b[0;32m---> 48\u001b[0m     tsv_candidate_gene_SYMBOL_revel_dict[thresh] \u001b[38;5;241m=\u001b[39m  \u001b[43mpd\u001b[49m\u001b[38;5;241;43m.\u001b[39;49m\u001b[43mread_csv\u001b[49m\u001b[43m(\u001b[49m\u001b[38;5;124;43mf\u001b[39;49m\u001b[38;5;124;43m'\u001b[39;49m\u001b[38;5;132;43;01m{\u001b[39;49;00m\u001b[43mpwd\u001b[49m\u001b[38;5;132;43;01m}\u001b[39;49;00m\u001b[38;5;124;43m/\u001b[39;49m\u001b[38;5;132;43;01m{\u001b[39;49;00m\u001b[43mfilename\u001b[49m\u001b[38;5;132;43;01m}\u001b[39;49;00m\u001b[38;5;124;43m/revel_\u001b[39;49m\u001b[38;5;132;43;01m{\u001b[39;49;00m\u001b[43mthresh\u001b[49m\u001b[38;5;132;43;01m}\u001b[39;49;00m\u001b[38;5;124;43m/\u001b[39;49m\u001b[38;5;132;43;01m{\u001b[39;49;00m\u001b[43mcase_id\u001b[49m\u001b[38;5;132;43;01m}\u001b[39;49;00m\u001b[38;5;124;43m.txt\u001b[39;49m\u001b[38;5;124;43m'\u001b[39;49m\u001b[43m,\u001b[49m\u001b[43m \u001b[49m\u001b[43msep\u001b[49m\u001b[38;5;241;43m=\u001b[39;49m\u001b[38;5;124;43m\"\u001b[39;49m\u001b[38;5;130;43;01m\\t\u001b[39;49;00m\u001b[38;5;124;43m\"\u001b[39;49m\u001b[43m,\u001b[49m\u001b[43mindex\u001b[49m\u001b[38;5;241;43m=\u001b[39;49m\u001b[38;5;28;43;01mFalse\u001b[39;49;00m\u001b[43m)\u001b[49m\n\u001b[1;32m     49\u001b[0m     tsv_candidate_gene_HGNCid_revel_dict[thresh] \u001b[38;5;241m=\u001b[39m pd\u001b[38;5;241m.\u001b[39mread_csv(\u001b[38;5;124mf\u001b[39m\u001b[38;5;124m'\u001b[39m\u001b[38;5;132;01m{\u001b[39;00mpwd\u001b[38;5;132;01m}\u001b[39;00m\u001b[38;5;124m/\u001b[39m\u001b[38;5;132;01m{\u001b[39;00mfilename\u001b[38;5;132;01m}\u001b[39;00m\u001b[38;5;124m/revel_\u001b[39m\u001b[38;5;132;01m{\u001b[39;00mthresh\u001b[38;5;132;01m}\u001b[39;00m\u001b[38;5;124m_hgncid/\u001b[39m\u001b[38;5;132;01m{\u001b[39;00mcase_id\u001b[38;5;132;01m}\u001b[39;00m\u001b[38;5;124m.txt\u001b[39m\u001b[38;5;124m'\u001b[39m, sep\u001b[38;5;241m=\u001b[39m\u001b[38;5;124m\"\u001b[39m\u001b[38;5;130;01m\\t\u001b[39;00m\u001b[38;5;124m\"\u001b[39m,index\u001b[38;5;241m=\u001b[39m\u001b[38;5;28;01mFalse\u001b[39;00m)\n\u001b[1;32m     50\u001b[0m     tsv_candidate_gene_ensemblid_revel_dict[thresh] \u001b[38;5;241m=\u001b[39m pd\u001b[38;5;241m.\u001b[39mread_csv(\u001b[38;5;124mf\u001b[39m\u001b[38;5;124m'\u001b[39m\u001b[38;5;132;01m{\u001b[39;00mpwd\u001b[38;5;132;01m}\u001b[39;00m\u001b[38;5;124m/\u001b[39m\u001b[38;5;132;01m{\u001b[39;00mfilename\u001b[38;5;132;01m}\u001b[39;00m\u001b[38;5;124m/revel_\u001b[39m\u001b[38;5;132;01m{\u001b[39;00mthresh\u001b[38;5;132;01m}\u001b[39;00m\u001b[38;5;124m_ensemblid/\u001b[39m\u001b[38;5;132;01m{\u001b[39;00mcase_id\u001b[38;5;132;01m}\u001b[39;00m\u001b[38;5;124m.txt\u001b[39m\u001b[38;5;124m'\u001b[39m, sep\u001b[38;5;241m=\u001b[39m\u001b[38;5;124m\"\u001b[39m\u001b[38;5;130;01m\\t\u001b[39;00m\u001b[38;5;124m\"\u001b[39m,index\u001b[38;5;241m=\u001b[39m\u001b[38;5;28;01mFalse\u001b[39;00m)\n",
      "File \u001b[0;32m~/.pyenv/versions/3.10.7/envs/jupyterlab/lib/python3.10/site-packages/pandas/util/_decorators.py:211\u001b[0m, in \u001b[0;36mdeprecate_kwarg.<locals>._deprecate_kwarg.<locals>.wrapper\u001b[0;34m(*args, **kwargs)\u001b[0m\n\u001b[1;32m    209\u001b[0m     \u001b[38;5;28;01melse\u001b[39;00m:\n\u001b[1;32m    210\u001b[0m         kwargs[new_arg_name] \u001b[38;5;241m=\u001b[39m new_arg_value\n\u001b[0;32m--> 211\u001b[0m \u001b[38;5;28;01mreturn\u001b[39;00m \u001b[43mfunc\u001b[49m\u001b[43m(\u001b[49m\u001b[38;5;241;43m*\u001b[39;49m\u001b[43margs\u001b[49m\u001b[43m,\u001b[49m\u001b[43m \u001b[49m\u001b[38;5;241;43m*\u001b[39;49m\u001b[38;5;241;43m*\u001b[39;49m\u001b[43mkwargs\u001b[49m\u001b[43m)\u001b[49m\n",
      "File \u001b[0;32m~/.pyenv/versions/3.10.7/envs/jupyterlab/lib/python3.10/site-packages/pandas/util/_decorators.py:331\u001b[0m, in \u001b[0;36mdeprecate_nonkeyword_arguments.<locals>.decorate.<locals>.wrapper\u001b[0;34m(*args, **kwargs)\u001b[0m\n\u001b[1;32m    325\u001b[0m \u001b[38;5;28;01mif\u001b[39;00m \u001b[38;5;28mlen\u001b[39m(args) \u001b[38;5;241m>\u001b[39m num_allow_args:\n\u001b[1;32m    326\u001b[0m     warnings\u001b[38;5;241m.\u001b[39mwarn(\n\u001b[1;32m    327\u001b[0m         msg\u001b[38;5;241m.\u001b[39mformat(arguments\u001b[38;5;241m=\u001b[39m_format_argument_list(allow_args)),\n\u001b[1;32m    328\u001b[0m         \u001b[38;5;167;01mFutureWarning\u001b[39;00m,\n\u001b[1;32m    329\u001b[0m         stacklevel\u001b[38;5;241m=\u001b[39mfind_stack_level(),\n\u001b[1;32m    330\u001b[0m     )\n\u001b[0;32m--> 331\u001b[0m \u001b[38;5;28;01mreturn\u001b[39;00m \u001b[43mfunc\u001b[49m\u001b[43m(\u001b[49m\u001b[38;5;241;43m*\u001b[39;49m\u001b[43margs\u001b[49m\u001b[43m,\u001b[49m\u001b[43m \u001b[49m\u001b[38;5;241;43m*\u001b[39;49m\u001b[38;5;241;43m*\u001b[39;49m\u001b[43mkwargs\u001b[49m\u001b[43m)\u001b[49m\n",
      "\u001b[0;31mTypeError\u001b[0m: read_csv() got an unexpected keyword argument 'index'"
     ]
    }
   ],
   "source": [
    "filename = 'scoliosis_gVCF_from_zs_updating'\n",
    "pwd = '/Users/liyaqi/PycharmProjects/PhenoAptAnalysis'\n",
    "df = read_gvcf_diagnosis_xlsx('/Users/liyaqi/Documents/生信/gVCF-2022-确诊.xlsx')\n",
    "    \n",
    "def statistic_to_table(df,pwd,filename,hpo,tools,intersect,REVEL_thresh,CADD_thresh):\n",
    "    case_ids=df['Blood ID']\n",
    "    columns_fill = output_columns(hpo,tools,intersect,REVEL_thresh,CADD_thresh)\n",
    "    part_table = pd.DataFrame(columns=columns_fill)\n",
    "    part_rr_table = pd.DataFrame(columns=columns_fill+['Frequency','Variant_class','Inheritance_ADAR',f'{hpo}_organ_system',f'{hpo}_organ_system_number'])\n",
    "    case_id_exomiser_tsv_file_dict = get_case_id_integ_file_map(pwd, filename, 'Exomiser', case_ids, hpo)\n",
    "    case_id_LIRICAL_tsv_file_dict = get_case_id_integ_file_map(pwd, filename, 'LIRICAL', case_ids, hpo)\n",
    "    part_table_for_R = pd.DataFrame(columns=columns_fill)\n",
    "    part_rr_table_for_R = pd.DataFrame(columns=columns_fill+['Frequency','Variant_class','Inheritance_ADAR',f'{hpo}_organ_system',f'{hpo}_organ_system_number'])\n",
    "    ##for R是后面去掉NA的。\n",
    "\n",
    "    for i in tqdm(range(len(df))):\n",
    "\n",
    "        if df.loc[i, hpo][0] == '[':\n",
    "            hpo_id = df.loc[i, hpo][2:-2]\n",
    "            hpo_id_input = [k for k in hpo_id.split(\"', '\")]\n",
    "        else:\n",
    "            hpo_id = df.loc[i, hpo]\n",
    "            hpo_id_input = [k for k in hpo_id.split(\";\")]\n",
    "        symbol = df.loc[i, \"Symbol\"]\n",
    "        entrezGeneId = df.loc[i, 'entrezGeneId']\n",
    "        ## NCBIGene:6911 entrezGeneId的格式\n",
    "        entrezId = df.loc[i, 'entrezId']\n",
    "        ensemblid = df.loc[i, 'Ensembl Gene ID']\n",
    "        print(ensemblid)\n",
    "        case_id = df.loc[i, 'Blood ID']\n",
    "        inheritance = df.loc[i,'Inheritance_ADAR']\n",
    "        HGNCid=str(int(df.loc[i,'HGNC']))\n",
    "\n",
    "        filedir,tsv_source_mode = dir_of_Filtered_TSV_MUltiple_source(pwd,filename,case_id)\n",
    "        if tsv_source_mode=='no Filtered TSV anywhere':\n",
    "            print(f'{case_id} no tsv file')\n",
    "            continue\n",
    "\n",
    "        tsv_candidate_gene_SYMBOL_list = pd.read_csv(f'{pwd}/{filename}/candidategene/{case_id}.txt', sep=\"\\t\")\n",
    "        tsv_candidate_gene_HGNCid_list = pd.read_csv(f'{pwd}/{filename}/candidategene_hgncid/{case_id}.txt', sep=\"\\t\")\n",
    "        tsv_candidate_gene_ensemblid_list = pd.read_csv(f'{pwd}/{filename}/candidategene_ensemblid/{case_id}.txt', sep=\"\\t\")\n",
    "\n",
    "        if len(REVEL_thresh)!=0:\n",
    "            tsv_candidate_gene_SYMBOL_revel_dict =  {}\n",
    "            tsv_candidate_gene_HGNCid_revel_dict = {}\n",
    "            tsv_candidate_gene_ensemblid_revel_dict = {}\n",
    "            for thresh in REVEL_thresh:\n",
    "                tsv_candidate_gene_SYMBOL_revel_dict[thresh] =  pd.read_csv(f'{pwd}/{filename}/revel_{thresh}/{case_id}.txt', sep=\"\\t\")\n",
    "                tsv_candidate_gene_HGNCid_revel_dict[thresh] = pd.read_csv(f'{pwd}/{filename}/revel_{thresh}_hgncid/{case_id}.txt', sep=\"\\t\")\n",
    "                tsv_candidate_gene_ensemblid_revel_dict[thresh] = pd.read_csv(f'{pwd}/{filename}/revel_{thresh}_ensemblid/{case_id}.txt', sep=\"\\t\")\n",
    "\n",
    "        if len(CADD_thresh)!=0:\n",
    "            tsv_candidate_gene_SYMBOL_cadd_dict ={}\n",
    "            tsv_candidate_gene_HGNCid_cadd_dict = {}\n",
    "            tsv_candidate_gene_ensemblid_cadd_dict = {}\n",
    "            for thresh in CADD_thresh:\n",
    "                tsv_candidate_gene_SYMBOL_cadd_dict[thresh] = pd.read_csv(f'{pwd}/{filename}/cadd_{thresh}/{case_id}.txt', sep=\"\\t\")[0]\n",
    "                tsv_candidate_gene_HGNCid_cadd_dict[thresh] = pd.read_csv(f'{pwd}/{filename}/cadd_{thresh}_hgncid/{case_id}.txt', sep=\"\\t\")[0]\n",
    "                tsv_candidate_gene_ensemblid_cadd_dict[thresh] = pd.read_csv(f'{pwd}/{filename}/cadd_{thresh}_ensemblid/{case_id}.txt', sep=\"\\t\")[0]\n",
    "\n",
    "        part_table.loc[i, 'CaseID'] = case_id\n",
    "        part_table.loc[i, 'hpo'] = hpo\n",
    "        part_table.loc[i, 'hpo_id_input'] = f'{hpo_id_input}'\n",
    "        part_table.loc[i, 'Symbol'] = symbol\n",
    "        part_rr_table.loc[i, 'CaseID'] = case_id\n",
    "        part_rr_table.loc[i, 'hpo'] = hpo\n",
    "        part_rr_table.loc[i, 'hpo_id_input'] = f'{hpo_id_input}'\n",
    "        part_rr_table.loc[i, 'Symbol'] = symbol\n",
    "        part_rr_table.loc[i, 'Frequency'] = df.loc[i,'Frequency']\n",
    "        part_rr_table.loc[i, 'Variant_class'] = df.loc[i, 'Variant_class']\n",
    "        part_rr_table.loc[i, 'Inheritance_ADAR'] = df.loc[i, 'Inheritance_ADAR']\n",
    "        part_rr_table.loc[i, f'{hpo}_organ_system'] =df.loc[i,f'{hpo}_organ_system']\n",
    "        #part_rr_table.loc[i, f'{hpo}_organ_system_number'] = df.loc[i, f'{hpo}_organ_system_number']\n",
    "\n",
    "        if 'PhenoGenius' in tools:\n",
    "            PhenoGenius_rank_tsv = pd.read_csv(f'{pwd}/{filename}/{hpo}_Phenogenius_output', sep='\\t')\n",
    "            PhenoGenius_gene_SYMBOL_list = list(PhenoGenius_rank_tsv['gene_symbol'])\n",
    "            part_table.loc[i,'PhenoGenius_rank'],part_rr_table.loc[i,'PhenoGenius_rank'] = get_rank(symbol,PhenoGenius_gene_SYMBOL_list)\n",
    "            if intersect:\n",
    "                PhenoGenius_gene_SYMBOL_intersect_list = PhenoGenius_gene_SYMBOL_list[PhenoGenius_gene_SYMBOL_list.isin(tsv_candidate_gene_SYMBOL_list)]\n",
    "                part_table.loc[i, 'PhenoGenius_intersect_rank'], part_rr_table.loc[i, 'PhenoGenius_intersect_rank'] = get_rank(symbol,PhenoGenius_gene_SYMBOL_intersect_list)\n",
    "            if len(REVEL_thresh)!=0:\n",
    "                for thresh in REVEL_thresh:\n",
    "                    PhenoGenius_gene_SYMBOL_revel_list = PhenoGenius_gene_SYMBOL_list[PhenoGenius_gene_SYMBOL_list.isin(tsv_candidate_gene_SYMBOL_revel_dict[thresh])]\n",
    "                    part_table.loc[i, f'PhenoGenius_rank_REVEL_{thresh}'], part_rr_table.loc[i, f'PhenoGenius_rank_REVEL_{thresh}'] = get_rank(symbol,PhenoGenius_gene_SYMBOL_revel_list)\n",
    "            if len(CADD_thresh)!=0:\n",
    "                for thresh in CADD_thresh:\n",
    "                    PhenoGenius_gene_SYMBOL_cadd_list = PhenoGenius_gene_SYMBOL_list[\n",
    "                        PhenoGenius_gene_SYMBOL_list.isin(tsv_candidate_gene_SYMBOL_cadd_dict[thresh])]\n",
    "                    part_table.loc[i, f'PhenoGenius_rank_CADD_{thresh}'], part_rr_table.loc[i, f'PhenoGenius_rank_CADD_{thresh}'] = get_rank(symbol,\n",
    "                                                                                                               PhenoGenius_gene_SYMBOL_cadd_list)\n",
    "    return part_table,part_rr_table\n"
   ]
  },
  {
   "cell_type": "code",
   "execution_count": null,
   "id": "d8fd1f58-3868-4fd5-9a30-cc2a9fc04ac2",
   "metadata": {},
   "outputs": [],
   "source": [
    "\n",
    "a,b=statistic_to_table(df,pwd,filename,'hpo_id',tools=['PhenoGenius'],intersect=True,REVEL_thresh=[0.25,0.5,0.75],CADD_thresh=[10,15,20])\n"
   ]
  },
  {
   "cell_type": "code",
   "execution_count": 5,
   "id": "b9d74fbf-6b41-481c-8a81-e136e6e86cf3",
   "metadata": {},
   "outputs": [
    {
     "name": "stdout",
     "output_type": "stream",
     "text": [
      "Requirement already satisfied: phenoapt in /Users/liyaqi/.pyenv/versions/3.10.7/envs/jupyterlab/lib/python3.10/site-packages (0.1.6)\n",
      "Requirement already satisfied: suds in /Users/liyaqi/.pyenv/versions/3.10.7/envs/jupyterlab/lib/python3.10/site-packages (1.1.2)\n",
      "Requirement already satisfied: scikit-allel in /Users/liyaqi/.pyenv/versions/3.10.7/envs/jupyterlab/lib/python3.10/site-packages (1.3.5)\n",
      "Requirement already satisfied: obonet in /Users/liyaqi/.pyenv/versions/3.10.7/envs/jupyterlab/lib/python3.10/site-packages (0.3.1)\n",
      "Requirement already satisfied: xlrd==1.2.0 in /Users/liyaqi/.pyenv/versions/3.10.7/envs/jupyterlab/lib/python3.10/site-packages (1.2.0)\n",
      "Requirement already satisfied: openpyxl in /Users/liyaqi/.pyenv/versions/3.10.7/envs/jupyterlab/lib/python3.10/site-packages (3.0.10)\n",
      "Requirement already satisfied: tabulate in /Users/liyaqi/.pyenv/versions/3.10.7/envs/jupyterlab/lib/python3.10/site-packages (from phenoapt) (0.9.0)\n",
      "Requirement already satisfied: Click>=7.0 in /Users/liyaqi/.pyenv/versions/3.10.7/envs/jupyterlab/lib/python3.10/site-packages (from phenoapt) (8.1.3)\n",
      "Requirement already satisfied: requests in /Users/liyaqi/.pyenv/versions/3.10.7/envs/jupyterlab/lib/python3.10/site-packages (from phenoapt) (2.28.1)\n",
      "Requirement already satisfied: dask[array] in /Users/liyaqi/.pyenv/versions/3.10.7/envs/jupyterlab/lib/python3.10/site-packages (from scikit-allel) (2022.10.2)\n",
      "Requirement already satisfied: numpy in /Users/liyaqi/.pyenv/versions/3.10.7/envs/jupyterlab/lib/python3.10/site-packages (from scikit-allel) (1.23.4)\n",
      "Requirement already satisfied: networkx in /Users/liyaqi/.pyenv/versions/3.10.7/envs/jupyterlab/lib/python3.10/site-packages (from obonet) (2.8.7)\n",
      "Requirement already satisfied: et-xmlfile in /Users/liyaqi/.pyenv/versions/3.10.7/envs/jupyterlab/lib/python3.10/site-packages (from openpyxl) (1.1.0)\n",
      "Requirement already satisfied: pyyaml>=5.3.1 in /Users/liyaqi/.pyenv/versions/3.10.7/envs/jupyterlab/lib/python3.10/site-packages (from dask[array]->scikit-allel) (6.0)\n",
      "Requirement already satisfied: partd>=0.3.10 in /Users/liyaqi/.pyenv/versions/3.10.7/envs/jupyterlab/lib/python3.10/site-packages (from dask[array]->scikit-allel) (1.3.0)\n",
      "Requirement already satisfied: cloudpickle>=1.1.1 in /Users/liyaqi/.pyenv/versions/3.10.7/envs/jupyterlab/lib/python3.10/site-packages (from dask[array]->scikit-allel) (2.2.0)\n",
      "Requirement already satisfied: toolz>=0.8.2 in /Users/liyaqi/.pyenv/versions/3.10.7/envs/jupyterlab/lib/python3.10/site-packages (from dask[array]->scikit-allel) (0.12.0)\n",
      "Requirement already satisfied: packaging>=20.0 in /Users/liyaqi/.pyenv/versions/3.10.7/envs/jupyterlab/lib/python3.10/site-packages (from dask[array]->scikit-allel) (21.3)\n",
      "Requirement already satisfied: fsspec>=0.6.0 in /Users/liyaqi/.pyenv/versions/3.10.7/envs/jupyterlab/lib/python3.10/site-packages (from dask[array]->scikit-allel) (2022.11.0)\n",
      "Requirement already satisfied: charset-normalizer<3,>=2 in /Users/liyaqi/.pyenv/versions/3.10.7/envs/jupyterlab/lib/python3.10/site-packages (from requests->phenoapt) (2.1.1)\n",
      "Requirement already satisfied: urllib3<1.27,>=1.21.1 in /Users/liyaqi/.pyenv/versions/3.10.7/envs/jupyterlab/lib/python3.10/site-packages (from requests->phenoapt) (1.26.12)\n",
      "Requirement already satisfied: certifi>=2017.4.17 in /Users/liyaqi/.pyenv/versions/3.10.7/envs/jupyterlab/lib/python3.10/site-packages (from requests->phenoapt) (2022.9.24)\n",
      "Requirement already satisfied: idna<4,>=2.5 in /Users/liyaqi/.pyenv/versions/3.10.7/envs/jupyterlab/lib/python3.10/site-packages (from requests->phenoapt) (3.4)\n",
      "Requirement already satisfied: pyparsing!=3.0.5,>=2.0.2 in /Users/liyaqi/.pyenv/versions/3.10.7/envs/jupyterlab/lib/python3.10/site-packages (from packaging>=20.0->dask[array]->scikit-allel) (3.0.9)\n",
      "Requirement already satisfied: locket in /Users/liyaqi/.pyenv/versions/3.10.7/envs/jupyterlab/lib/python3.10/site-packages (from partd>=0.3.10->dask[array]->scikit-allel) (1.0.0)\n",
      "\n",
      "\u001b[1m[\u001b[0m\u001b[34;49mnotice\u001b[0m\u001b[1;39;49m]\u001b[0m\u001b[39;49m A new release of pip available: \u001b[0m\u001b[31;49m22.3\u001b[0m\u001b[39;49m -> \u001b[0m\u001b[32;49m22.3.1\u001b[0m\n",
      "\u001b[1m[\u001b[0m\u001b[34;49mnotice\u001b[0m\u001b[1;39;49m]\u001b[0m\u001b[39;49m To update, run: \u001b[0m\u001b[32;49m/Users/liyaqi/.pyenv/versions/3.10.7/envs/jupyterlab/bin/python3.10 -m pip install --upgrade pip\u001b[0m\n",
      "Note: you may need to restart the kernel to use updated packages.\n"
     ]
    }
   ],
   "source": [
    "pip install phenoapt suds scikit-allel obonet xlrd==1.2.0 openpyxl"
   ]
  },
  {
   "cell_type": "code",
   "execution_count": null,
   "id": "6f0a1f2a-04fa-486c-ad2d-ff73de54fd8d",
   "metadata": {},
   "outputs": [],
   "source": [
    "xlrd appscript pyyaml phenoapt"
   ]
  },
  {
   "cell_type": "code",
   "execution_count": 8,
   "id": "d3fad081-911e-4644-89fd-889887a8c808",
   "metadata": {},
   "outputs": [
    {
     "ename": "ValueError",
     "evalue": "not enough values to unpack (expected 2, got 1)",
     "output_type": "error",
     "traceback": [
      "\u001b[0;31m---------------------------------------------------------------------------\u001b[0m",
      "\u001b[0;31mValueError\u001b[0m                                Traceback (most recent call last)",
      "Cell \u001b[0;32mIn [8], line 1\u001b[0m\n\u001b[0;32m----> 1\u001b[0m a,b\u001b[38;5;241m=\u001b[39m\u001b[38;5;124m'\u001b[39m\u001b[38;5;124m1\u001b[39m\u001b[38;5;124m'\u001b[39m\n",
      "\u001b[0;31mValueError\u001b[0m: not enough values to unpack (expected 2, got 1)"
     ]
    }
   ],
   "source": [
    "a,b='1'"
   ]
  },
  {
   "cell_type": "code",
   "execution_count": 9,
   "id": "db596eb6-9ec5-4dc6-b456-a4db9f9cf4a2",
   "metadata": {},
   "outputs": [],
   "source": [
    "result_mode_dict = {'PhenoGenius':'Symbol','phrank':'Ensembl Gene ID','phenolyzer':'Symbol','GADO':'Ensembl Gene ID','phen2gene':'Symbol'}\n"
   ]
  },
  {
   "cell_type": "code",
   "execution_count": 12,
   "id": "80a9657a-fe9c-4d2a-8891-62a8581c2c39",
   "metadata": {},
   "outputs": [],
   "source": [
    "dict_test={}\n",
    "dict_test['result'] = result_mode_dict"
   ]
  },
  {
   "cell_type": "code",
   "execution_count": 14,
   "id": "6cdbed8b-1df5-4746-ae47-f3772f58e5e1",
   "metadata": {},
   "outputs": [
    {
     "data": {
      "text/plain": [
       "'Symbol'"
      ]
     },
     "execution_count": 14,
     "metadata": {},
     "output_type": "execute_result"
    }
   ],
   "source": [
    "dict_test['result']['PhenoGenius']"
   ]
  },
  {
   "cell_type": "code",
   "execution_count": 28,
   "id": "78ec4b0c-086d-4d3d-b3ab-4c8fc8f5c7c9",
   "metadata": {},
   "outputs": [
    {
     "name": "stdout",
     "output_type": "stream",
     "text": [
      "ok\n"
     ]
    }
   ],
   "source": [
    "hpo = '233'\n",
    "case_id = '234'\n",
    "mode_dict = {'result': {'PhenoGenius': 'Symbol', 'phrank': 'Ensembl Gene ID', 'phenolyzer': 'Symbol',\n",
    "                                'GADO': 'Ensembl Gene ID'},\n",
    "                     'dir': {'PhenoGenius': f'{hpo}_PhenoGenius_output/{case_id}.tsv',\n",
    "                             'phrank': f'phrankoutput/{case_id}_{hpo}_nogenelist_phrank_rank.tsv',\n",
    "                             'phenolyzer': f'phenolyzeroutput/{case_id}.final_gene_list',\n",
    "                             'GADO': f'GADOoutput/{case_id}.txt'},\n",
    "                     'column': {'PhenoGenius': 'gene_symbol', 'phrank': '1', 'phenolyzer': 'ID',\n",
    "                                'GADO': 'Ensg'}\n",
    "            }\n",
    "if 'PhenoGenius' in mode_dict['result'].keys():\n",
    "    print('ok')"
   ]
  },
  {
   "cell_type": "code",
   "execution_count": 2,
   "id": "c2636c9c-1ca7-47ec-930b-d5be5397abf9",
   "metadata": {},
   "outputs": [
    {
     "data": {
      "text/plain": [
       "dict_keys(['Exomiser', 'phen2gene', 'Exomiser1310', 'LIRICAL'])"
      ]
     },
     "execution_count": 2,
     "metadata": {},
     "output_type": "execute_result"
    }
   ],
   "source": [
    "hpo = '233'\n",
    "case_id = '234'\n",
    "inheritance = 'AD'\n",
    "file_dir_dict = {\n",
    "            'Exomiser':{'original':f'{hpo}_Exomixeroutput/{case_id}_{inheritance}.gene.tsv',\n",
    "                        'column':'ENTREZ_GENE_ID',\n",
    "                        'result':'entrezId'},\n",
    "            'phen2gene':{'original':f'phen2geneoutput_nolist/{case_id}-phen2gene-nolist-output.txt',\n",
    "                         'column':'ID',\n",
    "                         'result':'Symbol'},\n",
    "            'Exomiser1310': {'original': f'{hpo}_Exomixer1310output/{case_id}_{inheritance}.gene.tsv',\n",
    "                             'column':'ID',\n",
    "                             'result':'Symbol_inheritance_ADAR'},\n",
    "            'LIRICAL': {'original': f'{hpo}_LIRICALoutput/{case_id}_{inheritance}.gene.tsv',\n",
    "                        'column':'entrezGeneId',\n",
    "                        'result':'entrezGeneId'}\n",
    "        }\n",
    "\n",
    "file_dir_dict.keys()"
   ]
  },
  {
   "cell_type": "code",
   "execution_count": 18,
   "id": "af0d106d-8286-4ccb-a166-6389abca550c",
   "metadata": {},
   "outputs": [
    {
     "data": {
      "text/plain": [
       "dict_keys(['original', 'column', 'result'])"
      ]
     },
     "execution_count": 18,
     "metadata": {},
     "output_type": "execute_result"
    }
   ],
   "source": [
    "file_dir_dict[list(file_dir_dict.keys())[0]].keys()"
   ]
  },
  {
   "cell_type": "code",
   "execution_count": 20,
   "id": "fde48fb9-672c-4f24-bd46-a6ca23dedcd0",
   "metadata": {},
   "outputs": [],
   "source": [
    "import logging\n",
    "logger = logging.getLogger(__name__)\n",
    "logger.info('like you')"
   ]
  },
  {
   "cell_type": "code",
   "execution_count": 22,
   "id": "0a30ae3d-e7b3-4400-a104-00a9e81d0936",
   "metadata": {},
   "outputs": [
    {
     "name": "stdout",
     "output_type": "stream",
     "text": [
      "<Logger __main__ (WARNING)>\n"
     ]
    }
   ],
   "source": [
    "print(logger)"
   ]
  },
  {
   "cell_type": "code",
   "execution_count": 15,
   "id": "a6b5835c-d9f5-4af4-bab0-c2d972bb9c38",
   "metadata": {},
   "outputs": [
    {
     "name": "stdout",
     "output_type": "stream",
     "text": [
      "['WASH7P', 'WASH7P', 'DDX11L1', 'DDX11L1', 'WASH7P', 'DDX11L1', 'DDX11L1', 'WASH7P', 'WASH7P', 'SDF4', 'SDF4', 'B3GALT6', 'SDF4', 'SDF4', 'SDF4', 'SDF4', 'SDF4', 'SDF4', 'B3GALT6', 'SDF4', 'SDF4', 'SDF4', 'SDF4', 'CPSF3L', 'ACAP3', 'ACAP3', 'ACAP3', 'PUSL1', 'CPSF3L', 'CPSF3L', 'CPSF3L', 'CPSF3L', 'CPSF3L', 'CPSF3L', 'ACAP3', 'CPSF3L', 'CPSF3L', 'CPSF3L', 'CPSF3L', 'PUSL1', 'CPSF3L', 'PUSL1', 'CPSF3L', 'PUSL1', 'ACAP3', 'CPSF3L', 'ACAP3', 'CPSF3L', 'CPSF3L', 'ACAP3', 'PUSL1', 'CPSF3L', 'CPSF3L', 'CPSF3L', 'CPSF3L', 'CPSF3L', 'CPSF3L', 'CPSF3L', 'CPSF3L', 'CPSF3L', 'CPSF3L', 'CPSF3L', 'CPSF3L', 'CPSF3L', 'CPSF3L', 'CPSF3L', 'CPSF3L', 'CPSF3L', 'CPSF3L', 'CPSF3L', 'CPSF3L', 'CPSF3L', 'GLTPD1', 'CPSF3L', 'CPSF3L', 'CPSF3L', 'CPSF3L', 'CPSF3L', 'CPSF3L', 'CPSF3L', 'RP5-890O3.9', 'CPSF3L', 'CPSF3L', 'CPSF3L', 'GLTPD1', 'CPSF3L', 'GLTPD1', 'CPSF3L', 'CPSF3L', 'CPSF3L', 'CPSF3L', 'CPSF3L', 'CPSF3L', 'CPSF3L', 'CPSF3L', 'CPSF3L', 'CPSF3L', 'CPSF3L', 'CPSF3L', 'CPSF3L', 'CPSF3L', 'CPSF3L', 'CPSF3L', 'CPSF3L', 'CPSF3L', 'CPSF3L', 'CPSF3L', 'CPSF3L', 'CPSF3L', 'CPSF3L', 'CPSF3L', 'MMP23A', 'CDK11A', 'CDK11A', 'CDK11A', 'CDK11A', 'CDK11A', 'CDK11A', 'CDK11A', 'CDK11A', 'MMP23A', 'CDK11A', 'CDK11A', 'CDK11A', 'CDK11A', 'CDK11A', 'CDK11A', 'CDK11A', 'CDK11A', 'CDK11A', 'CDK11A', 'CDK11A', 'CDK11A', 'RP1-283E3.8', 'C1orf222', 'C1orf222', 'C1orf222', 'C1orf222', 'C1orf222', 'C1orf222', 'PRKCZ', 'PRKCZ', 'PRKCZ', 'PRKCZ', 'PRKCZ', 'PRKCZ', 'CCDC27', 'LRRC47', 'SMIM1', 'SMIM1', 'CCDC27', 'SMIM1', 'RERE', 'RERE', 'RERE', 'RERE', 'RERE', 'RERE', 'RERE', 'TNFRSF8', 'TNFRSF8', 'TNFRSF8', 'HNRNPCL1', 'HNRNPCL1', 'PRAMEF4', 'PRAMEF5', 'PRAMEF5', 'PRAMEF5', 'PRAMEF5', 'PRAMEF17', 'SPEN', 'SPEN', 'SPEN', 'SPEN', 'SPEN', 'SPEN', 'EPHA2', 'EPHA2', 'EPHA2', 'NBPF1', 'NBPF1', 'NBPF1', 'NBPF1', 'NBPF1', 'MST1P2', 'CROCCP2', 'MST1P2', 'MST1P2', 'MST1P2', 'CROCCP2', 'MST1P2', 'MST1P2', 'MST1P2', 'CROCCP2', 'MST1P2', 'MST1P2', 'MST1P2', 'MST1P2', 'MST1P2', 'MST1P2', 'MST1P2', 'MST1P2', 'MST1L', 'MST1L', 'MST1L', 'CROCC', 'MST1L', 'MST1L', 'MST1L', 'MST1L', 'MST1L', 'CROCC', 'MST1L', 'MST1L', 'MST1L', 'MST1L', 'MST1L', 'CROCC', 'MST1L', 'MST1L', 'MST1L', 'MST1L', 'MST1L', 'CROCC', 'MST1L', 'MST1L', 'MST1L', 'MST1L', 'MST1L', 'CROCC', 'MST1L', 'MST1L', 'UBR4', 'UBR4', 'UBR4', 'UBR4', 'UBR4', 'UBR4', 'IFNLR1', 'IFNLR1', 'IFNLR1', 'IFNLR1', 'IFNLR1', 'CEP85', 'SH3BGRL3', 'UBXN11', 'SH3BGRL3', 'UBXN11', 'UBXN11', 'UBXN11', 'UBXN11', 'UBXN11', 'UBXN11', 'UBXN11', 'UBXN11', 'CEP85', 'UBXN11', 'CEP85', 'CEP85', 'UBXN11', 'UBXN11', 'CEP85', 'UBXN11', 'UBXN11', 'UBXN11', 'MATN1', 'MATN1-AS1', 'MATN1-AS1', 'MATN1-AS1', 'MATN1', 'MATN1', 'COL16A1', 'COL16A1', 'COL16A1', 'COL16A1', 'COL16A1', 'CYP4A11', 'CYP4A11', 'CYP4A11', 'CYP4A11', 'CYP4A11', 'CYP4A11', 'CYP4A11', 'CYP4A11', 'CYP4A11', 'CYP4A11', 'GPX7', 'GPX7', 'NFIA', 'NFIA', 'NFIA', 'NFIA', 'NFIA', 'NFIA', 'NFIA', 'NFIA', 'NFIA', 'NFIA', 'NFIA', 'NFIA', 'PGM1', 'PGM1', 'PGM1', 'CCBL2', 'RBMXL1', 'CCBL2', 'CCBL2', 'CCBL2', 'RBMXL1', 'RBMXL1', 'CCBL2', 'DPYD', 'DPYD-AS1', 'MIR137HG', 'MIR137HG', 'MIR137HG', 'MIR137HG', 'MIR137HG', 'MIR137HG', 'MIR137HG', 'KIAA1324', 'C1orf194', 'C1orf194', 'C1orf194', 'C1orf194', 'KIAA1324', 'C1orf194', 'C1orf194', 'KIAA1324', 'KIAA1324', 'KIAA1324', 'KIAA1324', 'KIAA1324', 'KIAA1324', 'KIAA1324', 'DENND2C', 'DENND2C', 'DENND2C', 'DENND2C', 'RP11-640M9.2', 'RP11-640M9.2', 'RP11-640M9.2', 'RP11-640M9.2', 'RP11-640M9.2', 'RP11-640M9.2', 'RP11-640M9.2', 'RP11-640M9.2', 'RP11-640M9.2', 'RP11-640M9.2', 'RP11-640M9.2', 'NBPF10', 'NBPF10', 'NBPF10', 'NBPF10', 'NBPF10', 'RP11-458D21.5', 'NBPF10', 'NBPF10', 'NBPF10', 'NBPF10', 'NBPF10', 'NBPF10', 'NBPF10', 'RP11-458D21.5', 'NBPF10', 'NBPF10', 'NBPF10', 'NBPF10', 'NBPF10', 'NBPF10', 'NBPF10', 'RP11-458D21.5', 'NBPF10', 'NBPF10', 'NBPF10', 'NBPF10', 'NBPF10', 'NBPF10', 'NBPF10', 'RP11-458D21.5', 'NBPF10', 'NBPF10', 'NBPF10', 'NBPF10', 'NBPF10', 'NBPF10', 'NBPF10', 'RP11-458D21.5', 'NBPF10', 'NBPF10', 'NBPF10', 'NBPF10', 'NBPF10', 'NBPF10', 'NBPF10', 'NBPF10', 'NBPF10', 'NBPF10', 'NBPF10', 'NBPF10', 'NBPF10', 'NBPF10', 'NBPF10', 'NBPF10', 'NBPF10', 'RP11-458D21.1', 'RP11-458D21.1', 'NBPF10', 'RP11-458D21.1', 'NBPF10', 'NBPF10', 'TXNIP', 'TXNIP', 'TXNIP', 'TXNIP', 'TXNIP', 'NBPF12', 'NBPF12', 'NBPF12', 'NBPF15', 'NBPF15', 'NBPF15', 'HRNR', 'FLG-AS1', 'FLG-AS1', 'HRNR', 'FLG-AS1', 'FLG-AS1', 'HRNR', 'FLG-AS1', 'FLG-AS1', 'FLG', 'FLG-AS1', 'FLG-AS1', 'FLG', 'FLG-AS1', 'FLG-AS1', 'FLG', 'FLG-AS1', 'FLG-AS1', 'FLG', 'FLG-AS1', 'FLG-AS1', 'FLG', 'FLG-AS1', 'FLG-AS1', 'FLG-AS1', 'LCE2A', 'DCST1', 'DCST1', 'DCST1', 'DCST1', 'RP11-307C12.11', 'DCST1', 'C1orf112', 'METTL18', 'METTL18', 'C1orf112', 'C1orf112', 'METTL18', 'C1orf112', 'C1orf112', 'C1orf112', 'C1orf112', 'C1orf112', 'C1orf112', 'C1orf112', 'ABL2', 'ABL2', 'ABL2', 'ABL2', 'ABL2', 'ABL2', 'ABL2', 'ABL2', 'ABL2', 'NR5A2', 'NR5A2', 'NR5A2', 'NR5A2', 'NR5A2', 'TNNT2', 'TNNT2', 'TNNT2', 'TNNT2', 'TNNT2', 'TNNT2', 'TNNT2', 'TNNT2', 'TNNT2', 'TNNT2', 'TNNT2', 'TNNT2', 'TNNT2', 'TNNT2', 'TNNT2', 'TNNT2', 'TNNT2', 'TNNT2', 'TNNT2', 'TNNT2', 'TNNT2', 'TNNT2', 'TNNT2', 'LAD1', 'TNNT2', 'TNNT2', 'NAV1', 'NAV1', 'NAV1', 'NAV1', 'NAV1', 'NAV1', 'IPO9-AS1', 'NAV1', 'NAV1', 'NAV1', 'NAV1', 'NAV1', 'PTPN7', 'PTPN7', 'PTPN7', 'PTPN7', 'PTPN7', 'PTPN7', 'PTPN7', 'PTPN7', 'PTPN7', 'PTPN7', 'PTPN7', 'PTPN7', 'PTPN7', 'PTPN7', 'PTPN7', 'PTPN7', 'PTPN7', 'PTPN7', 'PTPN7', 'PTPN7', 'PTPN7', 'CHI3L1', 'MYBPH', 'CHI3L1', 'CHI3L1', 'CHI3L1', 'CHI3L1', 'CTSE', 'CTSE', 'CTSE', 'CTSE', 'CTSE', 'HHAT', 'HHAT', 'HHAT', 'HHAT', 'HHAT', 'HHAT', 'HHAT', 'HHAT', 'HHAT', 'HHAT', 'HHAT', 'RP5-879K22.1', 'KCTD3', 'USH2A', 'SNORD116', 'USH2A', 'KCTD3', 'USH2A', 'USH2A', 'USH2A', 'USH2A', 'USH2A', 'USH2A', 'USH2A', 'USH2A', 'ZC3H11B', 'ZC3H11B', 'GJC2', 'OBSCN', 'C1orf145', 'C1orf145', 'OBSCN', 'OBSCN', 'OBSCN', 'C1orf145', 'OBSCN', 'OBSCN', 'OBSCN', 'OBSCN', 'OBSCN', 'OBSCN', 'OBSCN', 'OBSCN', 'OBSCN', 'OBSCN', 'OBSCN', 'RP5-1139B12.2', 'RP5-1139B12.3', 'RP5-1139B12.3', 'OBSCN', 'OBSCN', 'OBSCN', 'OBSCN', 'OBSCN', 'OBSCN', 'OBSCN', 'OBSCN', 'RP5-1139B12.4', 'OBSCN', 'RYR2', 'RYR2', 'RYR2', 'FH', 'CNST', 'CNST', 'CNST', 'TFB2M', 'CNST', 'TFB2M', 'OR2T34', 'ODC1', 'ODC1', 'ODC1', 'ODC1', 'WDR35', 'WDR35', 'WDR35', 'WDR35', 'WDR35', 'APOB', 'APOB', 'MFSD2B', 'MFSD2B', 'MFSD2B', 'MFSD2B', 'MFSD2B', 'GPN1', 'CCDC121', 'ZNF512', 'ZNF512', 'CCDC121', 'GPN1', 'GPN1', 'GPN1', 'GPN1', 'GPN1', 'GPN1', 'GPN1', 'ZNF512', 'GPN1', 'RP11-158I13.2', 'GPN1', 'CCDC121', 'ZNF512', 'GPN1', 'C2orf71', 'LTBP1', 'Y_RNA', 'LTBP1', 'SLC8A1', 'SLC8A1', 'SLC8A1', 'SLC8A1', 'SLC8A1', 'SLC8A1', 'SLC8A1', 'SLC8A1', 'SLC8A1', 'SLC8A1', 'SLC8A1', 'SLC8A1', 'SLC8A1', 'SLC8A1', 'MSH2', 'MSH2', 'MSH2', 'MSH2', 'EML6', 'PUS10', 'PUS10', 'PUS10', 'CCT4', 'AC107081.5', 'CCT4', 'CCT4', 'CCT4', 'CCT4', 'ANKRD36BP2', 'ANKRD36BP2', 'ANKRD36BP2', 'ANKRD36BP2', 'ANKRD36C', 'ANKRD36C', 'ANKRD36C', 'ANKRD36C', 'ANKRD36C', 'ANKRD36C', 'ANKRD36C', 'ANKRD36C', 'ANKRD36C', 'ANKRD36C', 'ANKRD36C', 'ANKRD36C', 'ANKRD36C', 'ANKRD36C', 'ANKRD36C', 'ANKRD36C', 'ANKRD36C', 'ANKRD36C', 'ANKRD36C', 'ANKRD36C', 'ANKRD36C', 'ANKRD36C', 'ANKRD36C', 'ANKRD36C', 'ANKRD36C', 'ANKRD36C', 'ANKRD36C', 'ANKRD36C', 'ANKRD36C', 'ANKRD36C', 'ANKRD36C', 'ANKRD36C', 'ANKRD36C', 'ANKRD36C', 'ANKRD36C', 'ANKRD36C', 'ANKRD36C', 'ANKRD36C', 'ANKRD36C', 'ANKRD36C', 'ANKRD36C', 'ANKRD36C', 'ANKRD36C', 'ANKRD36C', 'ANKRD36C', 'ANKRD36C', 'ANKRD36C', 'ANKRD36C', 'ANKRD36C', 'ANKRD36C', 'ANKRD36C', 'ANKRD36C', 'ANKRD36C', 'ANKRD36C', 'ANKRD36C', 'ANKRD36C', 'ANKRD36C', 'ANKRD36C', 'ANKRD36C', 'ANKRD36C', 'ANKRD36C', 'ANKRD36C', 'ANKRD36C', 'ANKRD36C', 'ANKRD36C', 'ANKRD36C', 'ANKRD36C', 'ANKRD36C', 'ANKRD36C', 'ANKRD36C', 'ANKRD36C', 'ANKRD36C', 'ANKRD36C', 'ANKRD36C', 'ANKRD36C', 'ANKRD36C', 'ANKRD36C', 'ANKRD36C', 'ANKRD36C', 'ANKRD36C', 'ANKRD36C', 'ANKRD36C', 'ANKRD36C', 'ANKRD36C', 'ANKRD36C', 'ANKRD36C', 'ANKRD36C', 'ANKRD36C', 'ANKRD36C', 'ANKRD36C', 'ANKRD36C', 'ANKRD36C', 'ANKRD36C', 'ANKRD36C', 'ANKRD36C', 'ANKRD36C', 'ANKRD36C', 'ANKRD36C', 'ANKRD36C', 'ANKRD36C', 'ANKRD36C', 'ANKRD36C', 'ANKRD36C', 'ANKRD36C', 'ANKRD36C', 'ANKRD36C', 'ANKRD36C', 'ANKRD36C', 'ANKRD36C', 'ANKRD36C', 'ANKRD36C', 'ANKRD36C', 'ANKRD36C', 'ANKRD36C', 'ANKRD36C', 'ANKRD36C', 'ANKRD36C', 'ANKRD36C', 'ANKRD36C', 'ANKRD36C', 'ANKRD36C', 'ANKRD36C', 'ANKRD36C', 'ANKRD36C', 'ANKRD36C', 'ANKRD36C', 'ANKRD36C', 'ANKRD36C', 'ANKRD36C', 'ANKRD36C', 'ANKRD36C', 'ANKRD36C', 'ANKRD36C', 'ANKRD36C', 'ANKRD36C', 'ANKRD36C', 'ANKRD36C', 'ANKRD36C', 'ANKRD36C', 'ANKRD36C', 'ANKRD36C', 'ANKRD36C', 'ANKRD36C', 'ANKRD36C', 'ANKRD36C', 'ANKRD36C', 'ANKRD36C', 'ANKRD36C', 'ANKRD36C', 'ANKRD36C', 'ANKRD36C', 'ANKRD36C', 'ANKRD36C', 'ANKRD36C', 'ANKRD36C', 'ANKRD36C', 'ANKRD36C', 'ANKRD36C', 'ANKRD36C', 'ANKRD36C', 'ANKRD36C', 'ANKRD36C', 'ANKRD36C', 'ANKRD36C', 'ANKRD36C', 'ANKRD36C', 'ANKRD36C', 'ANKRD36C', 'ANKRD36C', 'ANKRD36C', 'ANKRD36C', 'ANKRD36C', 'ANKRD36C', 'ANKRD36C', 'ANKRD36C', 'ANKRD36C', 'ANKRD36C', 'ANKRD36C', 'ANKRD36C', 'ANKRD36C', 'ANKRD36C', 'ANKRD36C', 'ANKRD36C', 'ANKRD36C', 'ANKRD36C', 'ANKRD36C', 'ANKRD36C', 'ANKRD36C', 'ANKRD36C', 'ANKRD36C', 'ANKRD36', 'ANKRD36', 'ANKRD36', 'ANKRD36', 'ANKRD36', 'ANKRD36', 'ANKRD36', 'ANKRD36', 'ANKRD36', 'ANKRD36', 'ANKRD36', 'ANKRD36', 'ANKRD36', 'ANKRD36', 'ANKRD36', 'ANKRD36', 'ANKRD36', 'ANKRD36', 'ANKRD36', 'ANKRD36', 'ANKRD36', 'ANKRD36', 'ANKRD36', 'ANKRD36', 'ANKRD36', 'ANKRD36', 'ANKRD36', 'ANKRD36', 'ANKRD36', 'ANKRD36', 'ANKRD36', 'ANKRD36', 'ANKRD36', 'ANKRD36', 'ANKRD36', 'ANKRD36', 'ANKRD36', 'ANKRD36', 'ANKRD36', 'ANKRD36', 'ANKRD36', 'ANKRD36', 'ANKRD36', 'ANKRD36', 'ANKRD36', 'ANKRD36', 'ANKRD36', 'ANKRD36', 'ANKRD36', 'ANKRD36B', 'ANKRD36B', 'ANKRD36B', 'ANKRD36B', 'ANKRD36B', 'ANKRD36B', 'ANKRD36B', 'ANKRD36B', 'ANKRD36B', 'ANKRD36B', 'ANKRD36B', 'ANKRD36B', 'ANKRD36B', 'ANKRD36B', 'ANKRD36B', 'ANKRD36B', 'ANKRD36B', 'ANKRD36B', 'ANKRD36B', 'ANKRD36B', 'ANKRD36B', 'ANKRD36B', 'ANKRD36B', 'ANKRD36B', 'ANKRD36B', 'ANKRD36B', 'ANKRD36B', 'ANKRD36B', 'ANKRD36B', 'ANKRD36B', 'ANKRD36B', 'ANKRD36B', 'ANKRD36B', 'ANKRD36B', 'ANKRD36B', 'ANKRD36B', 'ANKRD36B', 'ANKRD36B', 'ANKRD36B', 'ANKRD36B', 'ANKRD36B', 'ANKRD36B', 'ANKRD36B', 'ANKRD36B', 'ANKRD36B', 'ANKRD36B', 'ANKRD36B', 'ANKRD36B', 'ANKRD36B', 'ANKRD36B', 'ANKRD36B', 'ANKRD36B', 'ANKRD36B', 'ANKRD36B', 'ANKRD36B', 'ANKRD36B', 'ANKRD36B', 'ANKRD36B', 'ANKRD36B', 'ANKRD36B', 'ANKRD36B', 'ANKRD36B', 'ANKRD36B', 'NMS', 'CHCHD5', 'CHCHD5', 'AC012442.5', 'AC012442.6', 'CHCHD5', 'CHCHD5', 'CHCHD5', 'CKAP2L', 'NT5DC4', 'CKAP2L', 'CKAP2L', 'NT5DC4', 'CKAP2L', 'IL36RN', 'IL36RN', 'IL36RN', 'IL36RN', 'MIR1302-3', 'FAM138B', 'FAM138B', 'WASH2P', 'DDX11L2', 'WASH2P', 'DDX11L2', 'DDX11L2', 'WASH2P', 'WASH2P', 'DDX11L2', 'WASH2P', 'DDX11L2', 'DDX11L2', 'WASH2P', 'CCDC74B', 'CCDC74B', 'CCDC74B', 'CCDC74B', 'CCDC74B', 'CCDC74B', 'MED15P9', 'MED15P9', 'CCDC74B', 'CCDC74B', 'CCDC74B', 'CCDC74B', 'CCDC74B', 'CCDC74A', 'CCDC74A', 'MED15P4', 'CCDC74A', 'CCDC74A', 'CCDC74A', 'CCDC74A', 'CCDC74A', 'CCDC74A', 'ZNF806', 'ZNF806', 'LRP1B', 'LRP1B', 'RIF1', 'RIF1', 'RIF1', 'RIF1', 'RIF1', 'RIF1', 'NEB', 'NEB', 'NEB', 'NEB', 'NEB', 'NEB', 'IFIH1', 'SCN1A', 'SCN1A', 'SCN1A', 'SCN1A', 'SCN1A', 'AC010127.3', 'AC010127.3', 'SCN9A', 'SCN9A', 'SCN9A', 'SCN9A', 'AC010127.3', 'METTL5', 'SSB', 'METTL5', 'METTL5', 'SSB', 'METTL5', 'METTL5', 'METTL5', 'METTL5', 'SSB', 'SSB', 'SSB', 'METTL5', 'SSB', 'SSB', 'SSB', 'SSB', 'SSB', 'METTL5', 'SSB', 'SSB', 'METTL5', 'METTL5', 'UBR3', 'UBR3', 'UBR3', 'UBR3', 'TTN', 'TTN', 'TTN', 'TTN', 'TTN', 'TTN-AS1', 'TTN', 'TTN', 'TTN-AS1', 'TTN', 'TTN-AS1', 'TTN-AS1', 'TTN', 'TTN-AS1', 'ITGA4', 'ITGA4', 'ITGA4', 'ITGA4', 'SSFA2', 'SSFA2', 'SSFA2', 'SSFA2', 'SSFA2', 'SSFA2', 'SSFA2', 'SSFA2', 'SSFA2', 'SSFA2', 'RP11-366L5.1', 'CCDC150', 'CCDC150', 'CCDC150', 'CCDC150', 'CCDC150', 'CCDC150', 'CCDC150', 'CCDC150', 'PLCL1', 'PLCL1', 'PLCL1', 'PLCL1', 'AC079354.1', 'AC079354.1', 'AC079354.1', 'AC079354.1', 'RNF25', 'STK36', 'STK36', 'STK36', 'STK36', 'STK36', 'RNF25', 'STK36', 'STK36', 'STK36', 'RNF25', 'STK36', 'RNF25', 'STK36', 'WNT6', 'WNT6', 'CHPF', 'TMEM198', 'ASIC4', 'ASIC4', 'TMEM198', 'CHPF', 'TMEM198', 'TMEM198', 'ASIC4', 'CHPF', 'RP11-256I23.1', 'ILKAP', 'FAM132B', 'FAM132B', 'ILKAP', 'ILKAP', 'ILKAP', 'ILKAP', 'FAM132B', 'FAM132B', 'FAM132B', 'FAM132B', 'FAM132B', 'PASK', 'PASK', 'PASK', 'PASK', 'PASK', 'PASK', 'PASK', 'PASK', 'CNTN6', 'CNTN6', 'CNTN6', 'CNTN6', 'CNTN6', 'CNTN4', 'CNTN4', 'CNTN4', 'CNTN4', 'CNTN4', 'CNTN4', 'CNTN4', 'CNTN4', 'SSUH2', 'SSUH2', 'SSUH2', 'SSUH2', 'SSUH2', 'SSUH2', 'SSUH2', 'SSUH2', 'SSUH2', 'SSUH2', 'SETD5', 'SETD5', 'SETD5', 'SETD5', 'SETD5', 'SETD5', 'SETD5', 'SETD5', 'SETD5', 'SETD5', 'SETD5', 'SETD5', 'SETD5', 'SETD5', 'SETD5', 'BRPF1', 'BRPF1', 'BRPF1', 'BRPF1', 'BRPF1', 'BRPF1', 'BRPF1', 'TTLL3', 'RPUSD3', 'TTLL3', 'TTLL3', 'ARPC4-TTLL3', 'RPUSD3', 'RPUSD3', 'TTLL3', 'RPUSD3', 'TTLL3', 'TTLL3', 'TTLL3', 'TTLL3', 'TTLL3', 'RPUSD3', 'TTLL3', 'TTLL3', 'TTLL3', 'RPUSD3', 'RPUSD3', 'TTLL3', 'TTLL3', 'TTLL3', 'TTLL3', 'TTLL3', 'TTLL3', 'TTLL3', 'TTLL3', 'FANCD2', 'FANCD2', 'FANCD2', 'FANCD2', 'FANCD2', 'FANCD2', 'FANCD2', 'PLCL2', 'PLCL2', 'PLCL2', 'VILL', 'PLCD1', 'Y_RNA', 'VILL', 'PLCD1', 'PLCD1', 'PLCD1', 'VILL', 'PLCD1', 'PLCD1', 'VILL', 'VILL', 'PLCD1', 'PLCD1', 'SCN5A', 'SCN5A', 'SCN5A', 'SCN5A', 'SCN5A', 'SCN5A', 'SCN5A', 'SCN5A', 'SCN5A', 'SCN5A', 'SCN5A', 'SCN5A', 'SCN5A', 'SCN5A', 'SCN5A', 'SCN5A', 'SCN5A', 'SCN5A', 'SCN5A', 'SCN5A', 'SCN5A', 'CSRNP1', 'CSRNP1', 'XIRP1', 'XIRP1', 'XIRP1', 'LRRC2', 'LRRC2', 'PTH1R', 'PTH1R', 'PTH1R', 'PTH1R', 'PTH1R', 'PTH1R', 'PTH1R', 'PTH1R', 'SETD2', 'SETD2', 'SETD2', 'SETD2', 'SETD2', 'SETD2', 'SETD2', 'SETD2', 'SETD2', 'SETD2', 'CCDC66', 'CCDC66', 'CCDC66', 'CCDC66', 'CCDC66', 'FAM208A', 'CCDC66', 'CCDC66', 'CCDC66', 'CCDC66', 'CCDC66', 'DNAH12', 'DNAH12', 'DNAH12', 'DNAH12', 'ADAMTS9', 'ADAMTS9', 'ADAMTS9', 'ADAMTS9', 'ADAMTS9', 'MAGI1', 'MAGI1', 'MAGI1', 'MAGI1', 'MAGI1', 'MAGI1', 'MAGI1', 'MAGI1', 'MAGI1', 'GXYLT2', 'RP11-728B21.3', 'FRG2C', 'FRG2C', 'RP11-413E6.7', 'FRG2C', 'FRG2C', 'RP11-413E6.7', 'ZNF717', 'ZNF717', 'ZNF717', 'ZNF717', 'ZNF717', 'ZNF717', 'ZNF717', 'ZNF717', 'ZNF717', 'ZNF717', 'ZNF717', 'ZNF717', 'ZNF717', 'ZNF717', 'ZNF717', 'ZNF717', 'ZNF717', 'ZNF717', 'ZNF717', 'ZNF717', 'ZNF717', 'ZNF717', 'ZNF717', 'ZNF717', 'MIR4273', 'OR5H14', 'RP11-343D2.11', 'IMPG2', 'ZBTB11', 'Y_RNA', 'ZBTB11', 'LSAMP', 'LSAMP', 'LSAMP', 'LSAMP', 'POLQ', 'EAF2', 'EAF2', 'EAF2', 'EAF2', 'HEG1', 'HEG1', 'HEG1', 'CEP63', 'CEP63', 'CEP63', 'CEP63', 'CEP63', 'CEP63', 'CEP63', 'CEP63', 'CEP63', 'CEP63', 'CLSTN2', 'RP11-68L1.2', 'RP11-68L1.2', 'RP11-68L1.2', 'CLSTN2', 'LEKR1', 'LEKR1', 'RSRC1', 'SHOX2', 'SHOX2', 'SHOX2', 'RSRC1', 'SHOX2', 'SHOX2', 'RSRC1', 'SHOX2', 'RSRC1', 'SHOX2', 'SHOX2', 'SHOX2', 'RSRC1', 'SHOX2', 'SHOX2', 'RSRC1', 'SHOX2', 'IQCJ-SCHIP1', 'IQCJ-SCHIP1', 'IQCJ-SCHIP1', 'IQCJ-SCHIP1-AS1', 'IQCJ-SCHIP1', 'IQCJ-SCHIP1', 'IQCJ-SCHIP1', 'IQCJ-SCHIP1', 'IQCJ-SCHIP1', 'IQCJ-SCHIP1', 'IQCJ-SCHIP1', 'IQCJ-SCHIP1', 'IQCJ-SCHIP1', 'IQCJ-SCHIP1-AS1', 'IQCJ-SCHIP1', 'IQCJ-SCHIP1', 'VPS8', 'VPS8', 'VPS8', 'VPS8', 'VPS8', 'MUC4', 'MUC4', 'MUC4', 'MUC4', 'MUC4', 'MUC4', 'MUC4', 'MUC4', 'MUC4', 'MUC4', 'MUC4', 'MUC4', 'MUC4', 'MUC4', 'MUC4', 'MUC4', 'MUC4', 'MUC4', 'MUC4', 'MUC4', 'MUC4', 'MUC4', 'MUC4', 'MUC4', 'MUC4', 'MUC4', 'MUC4', 'MUC4', 'MUC4', 'MUC4', 'MUC4', 'MUC4', 'MUC4', 'MUC4', 'MUC4', 'MUC4', 'MUC4', 'MUC4', 'MUC4', 'MUC4', 'MUC4', 'MUC4', 'MUC4', 'MUC4', 'MUC4', 'MUC4', 'MUC4', 'MUC4', 'MUC4', 'MUC4', 'MUC4', 'MUC4', 'MUC4', 'MUC4', 'MUC4', 'MUC4', 'MUC4', 'MUC4', 'MUC4', 'MUC4', 'MUC4', 'MUC4', 'MUC4', 'MUC4', 'MUC4', 'MUC4', 'MUC4', 'MUC4', 'MUC4', 'MUC4', 'SDHAP1', 'SDHAP1', 'SDHAP1', 'SDHAP1', 'SDHAP1', 'SDHAP1', 'SDHAP1', 'SDHAP1', 'ZNF141', 'ZNF141', 'ZNF141', 'ZNF141', 'RP11-478C6.4', 'ZNF141', 'CTBP1', 'CTBP1', 'CTBP1', 'CTBP1', 'CTBP1', 'CTBP1', 'CTBP1', 'CTBP1', 'CTBP1', 'CTBP1', 'CTBP1', 'CTBP1', 'STK32B', 'STK32B', 'JAKMIP1', 'JAKMIP1', 'JAKMIP1', 'JAKMIP1', 'JAKMIP1', 'JAKMIP1', 'JAKMIP1', 'SORCS2', 'SORCS2', 'SORCS2', 'ACOX3', 'RNA5SP152', 'ACOX3', 'ACOX3', 'ACOX3', 'ACOX3', 'USP17L10', 'USP17L13', 'USP17L11', 'USP17L18', 'USP17L16P', 'USP17L17', 'SLIT2', 'SLIT2', 'SLIT2', 'SLIT2', 'SLIT2', 'PCDH7', 'PCDH7', 'PCDH7', 'PDGFRA', 'PDGFRA', 'FIP1L1', 'PDGFRA', 'PDGFRA', 'PDGFRA', 'UGT2B15', 'SLC4A4', 'SLC4A4', 'SLC4A4', 'SLC4A4', 'GC', 'GC', 'GC', 'GC', 'GC', 'GC', 'GC', 'NAAA', 'NAAA', 'NAAA', 'NAAA', 'NAAA', 'NAAA', 'NAAA', 'THAP9', 'THAP9', 'LIN54', 'THAP9', 'SEC24B', 'SEC24B', 'SEC24B', 'ALPK1', 'ALPK1', 'ALPK1', 'ALPK1', 'ALPK1', 'ALPK1', 'ALPK1', 'ALPK1', 'KIAA1109', 'KIAA1109', 'KIAA1109', 'KIAA1109', 'FAT4', 'FAT4', 'FAT4', 'FAT4', 'NR3C2', 'NR3C2', 'NR3C2', 'NR3C2', 'NR3C2', 'NR3C2', 'NEK1', 'NEK1', 'NEK1', 'NEK1', 'NEK1', 'NKD2', 'NKD2', 'NKD2', 'NKD2', 'NKD2', 'NKD2', 'NKD2', 'ADAMTS16', 'ADAMTS16', 'ADAMTS16', 'ADCY2', 'ADCY2', 'DNAH5', 'FAM105A', 'FAM105A', 'FAM105A', 'PRDM9', 'RAI14', 'RAI14', 'RAI14', 'RAI14', 'RAI14', 'RAI14', 'RAI14', 'RAI14', 'RAI14', 'RAI14', 'CDC20B', 'GPX8', 'CDC20B', 'CDC20B', 'CDC20B', 'CDC20B', 'GPX8', 'GPX8', 'GPX8', 'GPX8', 'CDC20B', 'GPX8', 'CDC20B', 'GPX8', 'GPX8', 'DHX29', 'DHX29', 'RP11-506H20.1', 'PPWD1', 'CENPK', 'PPWD1', 'PPWD1', 'CENPK', 'PPWD1', 'CENPK', 'CENPK', 'CENPK', 'CENPK', 'PPWD1', 'CENPK', 'CENPK', 'CENPK', 'PPWD1', 'PPWD1', 'CENPK', 'PPWD1', 'CENPK', 'CENPK', 'PPWD1', 'PPWD1', 'RP11-497H16.2', 'RP11-497H16.8', 'AC099522.2', 'BTF3', 'BTF3', 'BTF3', 'BTF3', 'BTF3', 'BTF3', 'BTF3', 'BTF3', 'ANKRD31', 'ANKRD31', 'ANKRD31', 'PDE8B', 'PDE8B', 'PDE8B', 'PDE8B', 'PDE8B', 'PDE8B', 'ARSB', 'ARSB', 'ARSB', 'ARSB', 'ANKRD34B', 'ANKRD34B', 'YTHDC2', 'YTHDC2', 'YTHDC2', 'SEMA6A', 'SEMA6A', 'SEMA6A', 'SEMA6A', 'SEMA6A', 'SEMA6A', 'CTB-118N6.3', 'SEMA6A', 'SEMA6A', 'CTB-118N6.3', 'CTB-118N6.3', 'SEMA6A', 'SEMA6A', 'ADAMTS19', 'ADAMTS19', 'ADAMTS19-AS1', 'ADAMTS19', 'JADE2', 'JADE2', 'JADE2', 'JADE2', 'JADE2', 'JADE2', 'JADE2', 'JADE2', 'IL9', 'GS1-39E22.2', 'IL9', 'GS1-39E22.2', 'CDC25C', 'CDC25C', 'CDC25C', 'CDC25C', 'CDC25C', 'CDC25C', 'CDC25C', 'CDC25C', 'CDC25C', 'CD14', 'CD14', 'CD14', 'CD14', 'CD14', 'PCDHB15', 'PCDHGA3', 'PCDHGA2', 'PCDHGA1', 'PCDHGA6', 'PCDHGA5', 'PCDHGB2', 'PCDHGB1', 'PCDHGA4', 'PCDHGB3', 'COL23A1', 'COL23A1', 'GRM6', 'GRM6', 'GRM6', 'GRM6', 'RP11-281O15.4', 'TRIM41', 'TRIM41', 'GNB2L1', 'GNB2L1', 'CTC-338M12.7', 'GNB2L1', 'GNB2L1', 'GNB2L1', 'GNB2L1', 'GNB2L1', 'TRIM41', 'GNB2L1', 'GNB2L1', 'GNB2L1', 'GNB2L1', 'GNB2L1', 'GNB2L1', 'GNB2L1', 'GNB2L1', 'GNB2L1', 'GNB2L1', 'TRIM41', 'GNB2L1', 'GNB2L1', 'TRIM41', 'GNB2L1', 'GNB2L1', 'GNB2L1', 'GNB2L1', 'GNB2L1', 'GNB2L1', 'GNB2L1', 'GNB2L1', 'GNB2L1', 'TRIM41', 'GNB2L1', 'TRIM41', 'GNB2L1', 'TRIM41', 'TRIM41', 'GFOD1', 'GFOD1', 'DTNBP1', 'JARID2', 'DTNBP1', 'DTNBP1', 'JARID2', 'DTNBP1', 'DTNBP1', 'DTNBP1', 'DTNBP1', 'DTNBP1', 'DTNBP1', 'DTNBP1', 'DTNBP1', 'HLA-A', 'HLA-A', 'HLA-A', 'HLA-A', 'HCG4P5', 'HLA-A', 'HLA-A', 'HLA-A', 'HLA-A', 'HLA-A', 'HLA-A', 'HLA-A', 'HLA-A', 'HCG4P5', 'HLA-A', 'HLA-A', 'HLA-A', 'HLA-A', 'HLA-A', 'HLA-A', 'HLA-A', 'HLA-A', 'HCG4P5', 'HLA-A', 'HLA-A', 'HLA-A', 'HLA-A', 'HLA-A', 'HLA-A', 'HLA-A', 'HLA-A', 'HCG4P5', 'HLA-A', 'HLA-A', 'HLA-A', 'HLA-A', 'HLA-A', 'HLA-A', 'HLA-A', 'HLA-A', 'HCG4P5', 'HLA-A', 'HLA-A', 'HLA-A', 'HLA-A', 'HLA-A', 'HLA-A', 'HLA-A', 'HLA-A', 'HCG4P5', 'HLA-A', 'HLA-A', 'HLA-A', 'HLA-A', 'HLA-A', 'HLA-A', 'HLA-A', 'HLA-A', 'HCG4P5', 'HLA-A', 'HLA-A', 'HLA-A', 'HLA-A', 'HLA-A', 'HLA-A', 'HLA-A', 'HLA-A', 'HCG4P5', 'HLA-A', 'HLA-A', 'HLA-A', 'HLA-A', 'HLA-A', 'HLA-A', 'HLA-A', 'HLA-A', 'HCG4P5', 'HLA-A', 'HLA-A', 'HLA-A', 'HLA-A', 'ATP6V1G2', 'NFKBIL1', 'NFKBIL1', 'NFKBIL1', 'ATP6V1G2', 'ATP6V1G2-DDX39B', 'ATP6V1G2', 'NFKBIL1', 'ATP6V1G2-DDX39B', 'ATP6V1G2-DDX39B', 'ATP6V1G2', 'ATP6V1G2', 'ATP6V1G2', 'NFKBIL1', 'SNORA38', 'PRRC2A', 'PRRC2A', 'PRRC2A', 'PRRC2A', 'PRRC2A', 'PRRC2A', 'HSPA1A', 'HSPA1L', 'LSM2', 'HSPA1L', 'HSPA1A', 'LSM2', 'HSPA1A', 'TNXB', 'TNXB', 'TNXB', 'TNXB', 'TNXB', 'ATF6B', 'FKBPL', 'ATF6B', 'ATF6B', 'ATF6B', 'ATF6B', 'ATF6B', 'HLA-DRB5', 'HLA-DRB5', 'HLA-DRB1', 'HLA-DRB1', 'HLA-DRB1', 'HLA-DRB1', 'BTBD9', 'BTBD9', 'BTBD9', 'BTBD9', 'BTBD9', 'BTBD9', 'CUL9', 'CUL9', 'CUL9', 'RP3-330M21.5', 'CUL9', 'CUL9', 'CUL9', 'CUL9', 'CUL9', 'CUL9', 'CUL9', 'CUL9', 'CUL9', 'TTBK1', 'ZNF318', 'ZNF318', 'ZNF318', 'MLIP', 'MLIP', 'MLIP', 'MLIP', 'MLIP', 'MLIP', 'MLIP', 'MLIP', 'MLIP', 'MLIP', 'MLIP', 'MLIP', 'COL12A1', 'COL12A1', 'COL12A1', 'COL12A1', 'COL12A1', 'PRSS35', 'PRSS35', 'MMS22L', 'MMS22L', 'RP3-418C23.2', 'MMS22L', 'MMS22L', 'MMS22L', 'MMS22L', 'MMS22L', 'RFX6', 'RFX6', 'HEY2', 'HEY2', 'EPB41L2', 'EPB41L2', 'EPB41L2', 'EPB41L2', 'EPB41L2', 'EPB41L2', 'EPB41L2', 'EPB41L2', 'EPB41L2', 'EPB41L2', 'EPB41L2', 'EPB41L2', 'EPB41L2', 'EPB41L2', 'MAP7', 'RP3-406A7.3', 'MAP7', 'MAP7', 'MAP7', 'MAP7', 'RP3-406A7.3', 'CITED2', 'CITED2', 'CITED2', 'RAET1G', 'RAET1G', 'RAET1E-AS1', 'RAET1G', 'RAET1E-AS1', 'RP11-244K5.8', 'PLEKHG1', 'PLEKHG1', 'PDCL3P5', 'PLEKHG1', 'SYNE1', 'SYNE1', 'SYNE1', 'SYNE1', 'SYNE1', 'SYNE1', 'SYNE1', 'SYNE1', 'SYNE1', 'SYNE1', 'SYNE1', 'LPA', 'LPA', 'LPA', 'LPA', 'PLG', 'PLG', 'MLLT4', 'MLLT4', 'MLLT4', 'RP3-470B24.5', 'RP3-470B24.5', 'TBP', 'TBP', 'TBP', 'TBP', 'TBP', 'DGKB', 'DGKB', 'DGKB', 'DGKB', 'DGKB', 'DGKB', 'DGKB', 'DGKB', 'DGKB', 'DGKB', 'DGKB', 'DGKB', 'TWIST1', 'TWIST1', 'AC003986.7', 'AC003986.6', 'TWIST1', 'ABCB5', 'ABCB5', 'ABCB5', 'DFNA5', 'DFNA5', 'DFNA5', 'DFNA5', 'DFNA5', 'DFNA5', 'DFNA5', 'ZNF479', 'TYW1', 'TYW1', 'TYW1', 'RP11-166O4.1', 'RP11-166O4.1', 'PMS2P4', 'RP11-166O4.1', 'RP11-166O4.1', 'POM121', 'POM121', 'POM121', 'POM121', 'POM121', 'POM121', 'POM121', 'POM121', 'POM121', 'POM121', 'NSUN5P2', 'NSUN5', 'NSUN5', 'POM121B', 'POM121B', 'NSUN5', 'NSUN5', 'NSUN5', 'NSUN5', 'NSUN5', 'NCF1', 'STAG3L2', 'NCF1', 'NCF1', 'NCF1', 'NCF1', 'NCF1', 'NCF1', 'NCF1', 'NCF1', 'NCF1', 'NCF1', 'DTX2P1', 'UPK3B', 'DTX2P1', 'UPK3BP1', 'DTX2P1', 'UPK3B', 'DTX2P1-UPK3BP1-PMS2P11', 'DTX2P1-UPK3BP1-PMS2P11', 'CD36', 'CD36', 'CD36', 'CD36', 'CD36', 'CD36', 'CD36', 'CD36', 'CD36', 'CD36', 'CD36', 'AC073850.6', 'CD36', 'CD36', 'CD36', 'CD36', 'PCLO', 'PCLO', 'PCLO', 'PCLO', 'ZAN', 'ZAN', 'ZAN', 'ZAN', 'ZAN', 'ZAN', 'ZAN', 'ZAN', 'ZAN', 'ZAN', 'ZAN', 'ZAN', 'ZAN', 'ZAN', 'ZAN', 'ZAN', 'ZAN', 'ZAN', 'ZAN', 'ZAN', 'ZAN', 'ZAN', 'ZAN', 'ZAN', 'ZAN', 'ZAN', 'ZAN', 'ZAN', 'ZAN', 'ZAN', 'MUC3A', 'MUC3A', 'MUC3A', 'MUC3A', 'MUC3A', 'MUC3A', 'MUC3A', 'MUC3A', 'MUC3A', 'MUC3A', 'MUC3A', 'MUC3A', 'MUC3A', 'MUC3A', 'MUC3A', 'MUC3A', 'MUC3A', 'MUC3A', 'MUC3A', 'MUC3A', 'MUC3A', 'MUC3A', 'MUC3A', 'MUC3A', 'MUC3A', 'MUC3A', 'MUC3A', 'MUC3A', 'MUC3A', 'MUC3A', 'MUC3A', 'MUC3A', 'MUC3A', 'MUC3A', 'MUC3A', 'MUC3A', 'MUC3A', 'MUC3A', 'MUC3A', 'MUC3A', 'MUC3A', 'MUC3A', 'MUC3A', 'MUC3A', 'MUC3A', 'MUC3A', 'MUC3A', 'MUC3A', 'MUC3A', 'MUC3A', 'MUC3A', 'MUC3A', 'MUC3A', 'MUC3A', 'MUC3A', 'MUC3A', 'MUC3A', 'MUC3A', 'MUC3A', 'MUC3A', 'MUC3A', 'MUC3A', 'MUC3A', 'MUC3A', 'MUC3A', 'MUC3A', 'MUC3A', 'MUC3A', 'MUC3A', 'MUC3A', 'MUC3A', 'MUC3A', 'MUC3A', 'MUC3A', 'MUC3A', 'MUC3A', 'MUC3A', 'MUC3A', 'MUC3A', 'MUC3A', 'MUC3A', 'MUC3A', 'MUC3A', 'MUC3A', 'MUC12', 'MUC12', 'MUC12', 'MUC12', 'MUC12', 'MUC12', 'MUC12', 'MUC12', 'MUC12', 'MUC12', 'MUC12', 'MUC12', 'MUC12', 'MUC12', 'MUC12', 'MUC12', 'MUC12', 'MUC12', 'MUC17', 'MUC17', 'MUC17', 'MUC17', 'MUC17', 'MUC17', 'MUC17', 'MUC17', 'MUC17', 'MUC17', 'MUC17', 'RASA4', 'RASA4', 'RASA4', 'RASA4', 'RP11-514P8.7', 'RP11-514P8.6', 'RASA4', 'RASA4', 'RASA4', 'RASA4', 'RASA4', 'ORC5', 'ORC5', 'ORC5', 'ORC5', 'ORC5', 'COG5', 'COG5', 'COG5', 'COG5', 'COG5', 'COG5', 'MET', 'MET', 'MET', 'MET', 'CADPS2', 'CADPS2', 'RNF133', 'CADPS2', 'RNF148', 'RNF148', 'CADPS2', 'SND1', 'SND1', 'SND1', 'BRAF', 'BRAF', 'BRAF', 'BRAF', 'RP11-1220K2.2', 'RP11-1220K2.2', 'CTAGE15', 'CTAGE15', 'RNU6-162P', 'CTAGE15', 'CTAGE15', 'RNU6-162P', 'GIMAP4', 'GIMAP4', 'GIMAP4', 'GIMAP4', 'GIMAP4', 'SLC4A2', 'SLC4A2', 'SLC4A2', 'SLC4A2', 'SLC4A2', 'SLC4A2', 'SLC4A2', 'SLC4A2', 'SLC4A2', 'SLC4A2', 'RP11-148K1.12', 'SLC4A2', 'SLC4A2', 'ASB10', 'ASB10', 'ASB10', 'ASB10', 'ASB10', 'ASB10', 'IQCA1P1', 'IQCA1P1', 'GALNT11', 'GALNT11', 'GALNT11', 'GALNT11', 'GALNT11', 'GALNT11', 'GALNT11', 'KMT2C', 'KMT2C', 'KMT2C', 'KMT2C', 'KMT2C', 'KMT2C', 'KMT2C', 'RBM33', 'RBM33', 'RBM33', 'RBM33', 'SHH', 'SHH', 'SHH', 'SHH', 'SHH', 'WDR60', 'WDR60', 'WDR60', 'SPAG11B', 'SPAG11B', 'SPAG11B', 'SPAG11B', 'SPAG11B', 'SPAG11B', 'SPAG11B', 'SPAG11B', 'PRR23D1', 'FDFT1', 'FDFT1', 'FDFT1', 'FDFT1', 'FDFT1', 'FDFT1', 'FDFT1', 'FDFT1', 'FDFT1', 'FDFT1', 'FDFT1', 'FDFT1', 'FDFT1', 'FDFT1', 'FDFT1', 'FDFT1', 'FDFT1', 'FDFT1', 'FDFT1', 'FAM86B1', 'FAM86B1', 'FAM86B1', 'FAM86B1', 'ALG1L11P', 'FAM86B1', 'FAM86B1', 'FAM86B1', 'FAM86B1', 'FAM86B1', 'FAM86B1', 'FAM86B1', 'FAM86B1', 'FAM86B1', 'FAM86B1', 'FAM86B1', 'FAM86B1', 'FAM86B1', 'FAM86B1', 'FAM86B1', 'FAM86B1', 'FAM66A', 'FAM66A', 'DLC1', 'DLC1', 'DLC1', 'DLC1', 'DLC1', 'PDLIM2', 'C8orf58', 'CCAR2', 'CCAR2', 'C8orf58', 'AC037459.4', 'AC037459.4', 'AC037459.4', 'C8orf58', 'C8orf58', 'C8orf58', 'CCAR2', 'CCAR2', 'CCAR2', 'CCAR2', 'CCAR2', 'POMK', 'POMK', 'RP1', 'TRIM55', 'TRIM55', 'TRIM55', 'TRIM55', 'TRIM55', 'CPA6', 'CPA6', 'CPA6', 'CPA6', 'IMPA1', 'IMPA1', 'IMPA1', 'IMPA1', 'IMPA1', 'IMPA1', 'IMPA1', 'IMPA1', 'IMPA1', 'IMPA1', 'IMPA1', 'IMPA1', 'CSMD3', 'CSMD3', 'CSMD3', 'CSMD3', 'CSMD3', 'CSMD3', 'ATAD2', 'MIR548D1', 'RNU6-875P', 'ATAD2', 'ATAD2', 'DUTP2', 'ATAD2', 'ATAD2', 'SQLE', 'SQLE', 'SQLE', 'SQLE', 'SQLE', 'OC90', 'OC90', 'OC90', 'OC90', 'TG', 'TG', 'TG', 'TG', 'TG', 'ZNF707', 'ZNF707', 'RP11-429J17.4', 'CCDC166', 'CCDC166', 'SPATC1', 'SPATC1', 'SPATC1', 'SPATC1', 'OPLAH', 'OPLAH', 'OPLAH', 'OPLAH', 'OPLAH', 'DGAT1', 'HSF1', 'DGAT1', 'DGAT1', 'GS1-393G12.12', 'DGAT1', 'HSF1', 'DGAT1', 'DGAT1', 'HSF1', 'DGAT1', 'HSF1', 'HSF1', 'HSF1', 'HSF1', 'HSF1', 'HSF1', 'HSF1', 'HSF1', 'HSF1', 'HSF1', 'DGAT1', 'HSF1', 'DGAT1', 'DGAT1', 'GS1-393G12.12', 'DGAT1', 'HSF1', 'DGAT1', 'DGAT1', 'HSF1', 'DGAT1', 'HSF1', 'HSF1', 'HSF1', 'HSF1', 'HSF1', 'HSF1', 'HSF1', 'HSF1', 'HSF1', 'HSF1', 'DGAT1', 'HSF1', 'DGAT1', 'DGAT1', 'GS1-393G12.12', 'DGAT1', 'HSF1', 'DGAT1', 'DGAT1', 'HSF1', 'DGAT1', 'HSF1', 'HSF1', 'HSF1', 'HSF1', 'HSF1', 'HSF1', 'HSF1', 'HSF1', 'HSF1', 'HSF1', 'XXyac-YRM2039.2', 'XXyac-YRM2039.2', 'DDX11L5', 'DDX11L5', 'XXyac-YRM2039.2', 'XXyac-YRM2039.2', 'KIAA1432', 'KIAA1432', 'KIAA1432', 'KIAA1432', 'KIAA1432', 'KIAA1432', 'KIAA1432', 'KIAA1432', 'KIAA1432', 'KIAA1432', 'KIAA1432', 'KIAA1432', 'KIAA1432', 'KIAA1432', 'AQP7', 'AQP7', 'AQP7', 'AQP7', 'AQP7', 'AQP7', 'AQP7', 'AQP7', 'AQP7', 'KIAA1161', 'KIAA1161', 'RUSC2', 'FAM166B', 'FAM166B', 'RUSC2', 'FAM166B', 'FAM166B', 'FAM166B', 'HRCT1', 'LINC00961', 'HRCT1', 'LINC00961', 'HRCT1', 'LINC00961', 'RP11-104G3.2', 'ANKRD20A1', 'RNU6-368P', 'ANKRD20A1', 'RNU6-368P', 'ANKRD20A1', 'RNU6-368P', 'ANKRD20A1', 'RNU6-368P', 'ANKRD20A1', 'RNU6-368P', 'ANKRD20A1', 'RNU6-368P', 'ANKRD20A1', 'RNU6-368P', 'ANKRD20A1', 'RP11-195B21.3', 'ANKRD20A1', 'RP11-195B21.3', 'RP11-764K9.4', 'RP11-764K9.4', 'GNAQ', 'GNAQ', 'GNAQ', 'PTCH1', 'PTCH1', 'PTCH1', 'PTCH1', 'PTCH1', 'PTCH1', 'PTCH1', 'PTCH1', 'PTCH1', 'PTCH1', 'IKBKAP', 'IKBKAP', 'IKBKAP', 'IKBKAP', 'ASTN2', 'ASTN2', 'ASTN2', 'ASTN2', 'ASTN2', 'ASTN2', 'ASTN2', 'ASTN2', 'TLR4', 'TLR4', 'TLR4', 'FBXW2', 'FBXW2', 'FBXW2', 'FBXW2', 'FBXW2', 'CRB2', 'CRB2', 'CRB2', 'CRB2', 'DENND1A', 'DENND1A', 'DENND1A', 'DENND1A', 'DENND1A', 'DENND1A', 'DENND1A', 'DENND1A', 'DENND1A', 'DENND1A', 'DENND1A', 'PTRH1', 'TTC16', 'C9orf117', 'C9orf117', 'TTC16', 'PTRH1', 'PTRH1', 'PTRH1', 'PTRH1', 'PTRH1', 'PTRH1', 'C9orf117', 'C9orf117', 'TTC16', 'TTC16', 'C9orf117', 'PTRH1', 'ENG', 'ENG', 'RNA5SP296', 'SURF6', 'SURF6', 'DBH', 'DBH-AS1', 'FCN1', 'SNAPC4', 'CARD9', 'CARD9', 'CARD9', 'CARD9', 'CARD9', 'CARD9', 'SEC16A', 'SEC16A', 'SEC16A', 'SEC16A', 'SEC16A', 'SEC16A', 'SEC16A', 'DPP7', 'MAN1B1', 'DPP7', 'DPP7', 'DPP7', 'DPP7', 'DPP7', 'DPP7', 'MAN1B1', 'MAN1B1', 'DPP7', 'MAN1B1', 'DPP7', 'DPP7', 'DPP7', 'DPP7', 'DPP7', 'MAN1B1', 'MAN1B1', 'MAN1B1', 'ANAPC2', 'TMEM210', 'TMEM210', 'TMEM210', 'ANAPC2', 'ANAPC2', 'ANAPC2', 'ANAPC2', 'TMEM210', 'RP11-350O14.18', 'ADARB2', 'ADARB2', 'ADARB2', 'ADARB2', 'ADARB2', 'FBXO18', 'FBXO18', 'FBXO18', 'FBXO18', 'FBXO18', 'CELF2', 'CELF2', 'CELF2', 'CELF2', 'CELF2', 'CELF2', 'CELF2', 'CELF2', 'CELF2', 'CELF2', 'CELF2', 'CELF2', 'CELF2', 'CELF2', 'BEND7', 'BEND7', 'BEND7', 'BEND7', 'BEND7', 'BEND7', 'BEND7', 'MLLT10', 'MLLT10', 'MLLT10', 'MLLT10', 'MLLT10', 'MLLT10', 'MLLT10', 'DNAJC1', 'DNAJC1', 'DNAJC1', 'DNAJC1', 'MYO3A', 'MYO3A', 'APBB1IP', 'APBB1IP', 'ZEB1', 'ZEB1', 'ZEB1', 'ZEB1', 'ZEB1', 'ZEB1', 'ZEB1', 'ZEB1', 'ZEB1', 'ZEB1', 'ZEB1', 'ZEB1', 'ZEB1', 'ZEB1', 'ZEB1', 'RET', 'RET', 'RET', 'RET', 'GPRIN2', 'GPRIN2', 'GPRIN2', 'GPRIN2', 'DKK1', 'PRKG1-AS1', 'DKK1', 'DKK1', 'DKK1', 'CDH23', 'PSAP', 'PSAP', 'CDH23', 'CDH23', 'PSAP', 'PSAP', 'SPOCK2', 'SPOCK2', 'SPOCK2', 'SPOCK2', 'SPOCK2', 'SPOCK2', 'AGAP5', 'RP11-464F9.1', 'AGAP5', 'RP11-464F9.21', 'AGAP5', 'RPS24', 'RPS24', 'RPS24', 'NUTM2B', 'NUTM2B', 'NUTM2B', 'NUTM2B', 'RP11-119F19.2', 'RP11-119F19.2', 'RP11-119F19.2', 'NUTM2E', 'NUTM2E', 'RP11-96C23.5', 'RP11-96C23.11', 'RP11-96C23.14', 'AGAP11', 'RP11-96C23.10', 'NUTM2D', 'NUTM2D', 'NUTM2D', 'NUTM2D', 'NUTM2D', 'NUTM2D', 'PAPSS2', 'PAPSS2', 'PAPSS2', 'PAPSS2', 'PAPSS2', 'IDE', 'IDE', 'IDE', 'IDE', 'IDE', 'IDE', 'IDE', 'CRTAC1', 'CRTAC1', 'CRTAC1', 'CRTAC1', 'CRTAC1', 'OBFC1', 'OBFC1', 'OBFC1', 'OBFC1', 'SEC23IP', 'SEC23IP', 'SEC23IP', 'SEC23IP', 'NSMCE4A', 'NSMCE4A', 'NSMCE4A', 'NSMCE4A', 'NSMCE4A', 'NSMCE4A', 'NSMCE4A', 'NSMCE4A', 'NSMCE4A', 'NSMCE4A', 'CTBP2', 'CTBP2', 'CTBP2', 'CTBP2', 'CTBP2', 'CTBP2', 'CTBP2', 'CTBP2', 'CTBP2', 'CTBP2', 'CTBP2', 'CTBP2', 'CTBP2', 'CTBP2', 'CTBP2', 'CTBP2', 'CTBP2', 'CTBP2', 'CTBP2', 'CTBP2', 'CTBP2', 'CTBP2', 'CTBP2', 'CTBP2', 'CTBP2', 'CTBP2', 'CTBP2', 'CTBP2', 'CTBP2', 'CTBP2', 'CTBP2', 'CTBP2', 'CTBP2', 'CTBP2', 'CTBP2', 'CTBP2', 'CTBP2', 'CTBP2', 'CTBP2', 'CTBP2', 'CTBP2', 'CTBP2', 'CTBP2', 'CTBP2', 'CTBP2', 'CTBP2', 'CTBP2', 'CTBP2', 'CTBP2', 'CTBP2', 'CTBP2', 'CTBP2', 'CTBP2', 'CTBP2', 'CTBP2', 'CTBP2', 'CTBP2', 'CTBP2', 'CTBP2', 'CTBP2', 'CTBP2', 'CTBP2', 'CTBP2', 'CTBP2', 'CTBP2', 'CTBP2', 'CTBP2', 'CTBP2', 'CTBP2', 'CTBP2', 'CTBP2', 'CTBP2', 'CTBP2', 'CTBP2', 'CTBP2', 'CTBP2', 'CTBP2', 'CTBP2', 'CTBP2', 'CTBP2', 'CTBP2', 'CTBP2', 'CTBP2', 'CTBP2', 'CTBP2', 'CTBP2', 'CTBP2', 'CTBP2', 'CTBP2', 'CTBP2', 'CTBP2', 'CTBP2', 'CTBP2', 'CTBP2', 'CTBP2', 'CTBP2', 'CTBP2', 'CTBP2', 'CTBP2', 'CTBP2', 'LINC01001', 'RP11-304M2.3', 'LINC01001', 'LINC01001', 'LINC01001', 'PSMD13', 'PSMD13', 'SIRT3', 'PSMD13', 'SIRT3', 'SIRT3', 'SIRT3', 'PSMD13', 'SIRT3', 'SIRT3', 'PSMD13', 'SIRT3', 'SIRT3', 'PSMD13', 'SIRT3', 'PSMD13', 'SIRT3', 'SIRT3', 'SIRT3', 'SIRT3', 'PSMD13', 'SIRT3', 'SIRT3', 'PSMD13', 'ANO9', 'ANO9', 'ANO9', 'ANO9', 'ANO9', 'ANO9', 'EPS8L2', 'EPS8L2', 'EPS8L2', 'EPS8L2', 'EPS8L2', 'EPS8L2', 'AP006621.9', 'EPS8L2', 'EPS8L2', 'EPS8L2', 'EPS8L2', 'EPS8L2', 'EPS8L2', 'EPS8L2', 'EPS8L2', 'EPS8L2', 'EPS8L2', 'EPS8L2', 'EPS8L2', 'EPS8L2', 'EPS8L2', 'MUC6', 'AP2A2', 'MUC6', 'MUC6', 'MUC6', 'AP2A2', 'MUC6', 'MUC6', 'MUC6', 'AP2A2', 'MUC6', 'MUC6', 'MUC6', 'AP2A2', 'MUC6', 'MUC6', 'MUC6', 'AP2A2', 'MUC6', 'MUC6', 'MUC6', 'AP2A2', 'MUC6', 'MUC6', 'MUC6', 'MUC6', 'MUC6', 'MUC6', 'MUC6', 'MUC6', 'MUC6', 'MUC6', 'MUC6', 'MUC6', 'MUC6', 'MUC6', 'MUC6', 'MUC6', 'MUC6', 'MUC6', 'MUC6', 'MUC6', 'MUC5AC', 'MUC5AC', 'MUC5B', 'MUC5B', 'MUC5B', 'MUC5B', 'MUC5B', 'MUC5B', 'MUC5B', 'RP11-532E4.2', 'MUC5B', 'MUC5B', 'MUC5B', 'RP11-532E4.2', 'TNNT3', 'TNNT3', 'TNNT3', 'TNNT3', 'TNNT3', 'TNNT3', 'TNNT3', 'TNNT3', 'TNNT3', 'TNNT3', 'TNNT3', 'TNNT3', 'TNNT3', 'TNNT3', 'TNNT3', 'TNNT3', 'AC051649.1', 'OR2D2', 'OLFML1', 'OLFML1', 'OLFML1', 'OLFML1', 'CTD-2516F10.2', 'OLFML1', 'MICAL2', 'MICAL2', 'MICAL2', 'MICAL2', 'MICAL2', 'MICAL2', 'MICAL2', 'MICAL2', 'MICAL2', 'MICAL2', 'MICAL2', 'MICAL2', 'MICALCL', 'MICALCL', 'OTOG', 'OTOG', 'OTOG', 'OTOG', 'E2F8', 'E2F8', 'RP11-428C19.4', 'E2F8', 'PAX6', 'PAX6', 'PAX6', 'PAX6', 'PAX6', 'PAX6', 'PAX6', 'PAX6', 'PAX6', 'PAX6', 'PAX6', 'PAX6', 'PAX6', 'PAX6', 'PAX6', 'PAX6', 'PAX6', 'PAX6', 'PAX6', 'Z83307.3', 'PAX6', 'PAX6', 'PAX6', 'PAX6', 'PAX6', 'PAX6', 'PAX6', 'PAX6', 'PAX6', 'PAX6', 'PAX6', 'PAX6', 'PAX6', 'PAX6', 'PAX6', 'PAX6', 'PAX6', 'PAX6', 'PAX6', 'PAX6', 'PAX6', 'PAX6', 'PAX6', 'PAX6', 'PAX6', 'PAX6', 'PAX6', 'PAX6', 'HIPK3', 'HIPK3', 'HIPK3', 'HIPK3', 'HIPK3', 'NUP160', 'NUP160', 'NUP160', 'NUP160', 'NUP160', 'NUP160', 'RP11-692M12.4', 'OR4X2', 'OR4A15', 'OR4C15', 'FAM111B', 'FAM111B', 'AP001258.4', 'FAM111B', 'FAM111B', 'TUT1', 'TUT1', 'EEF1G', 'EEF1G', 'TUT1', 'TUT1', 'TUT1', 'MIR3654', 'EEF1G', 'EEF1G', 'MIR3654', 'EEF1G', 'MIR3654', 'CHRM1', 'CHRM1', 'AP000438.2', 'CHRM1', 'NAALADL1', 'NAALADL1', 'NAALADL1', 'NAALADL1', 'NAALADL1', 'NAALADL1', 'NAALADL1', 'NAALADL1', 'B3GNT1', 'BRMS1', 'BRMS1', 'BRMS1', 'BRMS1', 'BRMS1', 'BRMS1', 'BRMS1', 'RP11-867G23.8', 'BRMS1', 'RP11-867G23.8', 'RP11-867G23.8', 'PELI3', 'PELI3', 'DPP3', 'DPP3', 'CTD-3074O7.5', 'DPP3', 'CTD-3074O7.5', 'CTD-3074O7.5', 'PELI3', 'DPP3', 'DPP3', 'DPP3', 'DPP3', 'DPP3', 'DPP3', 'DPP3', 'PELI3', 'CTD-3074O7.5', 'DPP3', 'DPP3', 'DPP3', 'LRFN4', 'PC', 'LRFN4', 'PC', 'PC', 'PC', 'PC', 'PC', 'LRFN4', 'IGHMBP2', 'IGHMBP2', 'IGHMBP2', 'IGHMBP2', 'IGHMBP2', 'IGHMBP2', 'IGHMBP2', 'IGHMBP2', 'IGHMBP2', 'LRRC32', 'LRRC32', 'LRRC32', 'LRRC32', 'AP001189.4', 'LRRC32', 'RP11-672A2.4', 'KCTD14', 'RP11-7I15.4', 'NDUFC2-KCTD14', 'NDUFC2-KCTD14', 'KCTD14', 'NOX4', 'NOX4', 'NOX4', 'NOX4', 'NOX4', 'NOX4', 'NOX4', 'NOX4', 'NOX4', 'NOX4', 'NOX4', 'NOX4', 'NOX4', 'NOX4', 'NOX4', 'TRIM51EP', 'TRIM51EP', 'TAF1D', 'KIAA1731', 'KIAA1731', 'SNORD6', 'SNORA32', 'SNORA1', 'SNORA25', 'SNORA18', 'SNORA8', 'TAF1D', 'MIR1304', 'KIAA1731', 'SNORD5', 'TAF1D', 'TAF1D', 'TAF1D', 'TAF1D', 'KIAA1731', 'TAF1D', 'TAF1D', 'TAF1D', 'TAF1D', 'TAF1D', 'KIAA1731', 'KIAA1731', 'TAF1D', 'TAF1D', 'TAF1D', 'TAF1D', 'MMP7', 'MMP7', 'MMP7', 'MMP8', 'MMP8', 'MMP8', 'MMP8', 'MMP8', 'MMP8', 'PDGFD', 'DDI1', 'PDGFD', 'PDGFD', 'NXPE1', 'NXPE1', 'NXPE1', 'NXPE1', 'NXPE1', 'NXPE1', 'NXPE1', 'NXPE1', 'NXPE1', 'NXPE1', 'NXPE1', 'NXPE1', 'NXPE1', 'NXPE1', 'NXPE1', 'APOC3', 'APOA1', 'APOA1', 'APOA1', 'APOA1', 'APOA1', 'APOC3', 'APOA1-AS', 'SNX19', 'SNX19', 'SNX19', 'SNX19', 'SNX19', 'SNX19', 'SNX19', 'SNX19', 'SNX19', 'SNX19', 'PRMT8', 'PRMT8', 'PRMT8', 'PRMT8', 'PEX5', 'PEX5', 'PEX5', 'PEX5', 'PEX5', 'PEX5', 'PEX5', 'PEX5', 'PEX5', 'PEX5', 'PEX5', 'PEX5', 'PEX5', 'PEX5', 'PEX5', 'NANOG', 'NANOG', 'NANOG', 'NANOG', 'ZNF705A', 'ZNF705A', 'ZNF705A', 'ZNF705A', 'FAM66C', 'FAM66C', 'FAM66C', 'FAM66C', 'TAS2R14', 'TAS2R31', 'PRR4', 'PRR4', 'PRR4', 'PRR4', 'PRR4', 'PRR4', 'PRR4', 'AC018630.1', 'TAS2R14', 'TAS2R46', 'PRR4', 'PRR4', 'PRR4', 'PRR4', 'TAS2R14', 'TAS2R46', 'PRR4', 'PRR4', 'PRR4', 'PRR4', 'TAS2R14', 'TAS2R46', 'PRR4', 'PRR4', 'PRR4', 'PRR4', 'TAS2R14', 'TAS2R43', 'PRR4', 'PRR4', 'PRR4', 'PRR4', 'GPRC5D', 'RP11-392P7.6', 'GPRC5D', 'RP11-392P7.6', 'RP11-392P7.6', 'RP11-392P7.6', 'GPRC5D', 'RP11-392P7.6', 'RP11-392P7.6', 'RP11-392P7.6', 'SLC15A5', 'PLEKHA5', 'PLEKHA5', 'PLEKHA5', 'PLEKHA5', 'PLEKHA5', 'PLEKHA5', 'PLEKHA5', 'PLEKHA5', 'PLEKHA5', 'PLEKHA5', 'PLEKHA5', 'SLCO1C1', 'SLCO1C1', 'SLCO1C1', 'SLCO1C1', 'SLCO1C1', 'SLCO1C1', 'LST3', 'SLCO1B7', 'LST3', 'RP11-125O5.2', 'SLCO1B3', 'SLCO1B7', 'SLCO1A2', 'SLCO1A2', 'SLCO1A2', 'SLCO1A2', 'SLCO1A2', 'SLCO1A2', 'SLCO1A2', 'SLCO1A2', 'SLCO1A2', 'SLCO1A2', 'C2CD5', 'C2CD5', 'C2CD5', 'C2CD5', 'C2CD5', 'C2CD5', 'C2CD5', 'C2CD5', 'C2CD5', 'C2CD5', 'C2CD5', 'C2CD5', 'C2CD5', 'CASC1', 'CASC1', 'LRMP', 'LRMP', 'CASC1', 'CASC1', 'LRMP', 'CASC1', 'CASC1', 'LRMP', 'LRMP', 'LRMP', 'CASC1', 'LRMP', 'CASC1', 'LRMP', 'CASC1', 'SMCO2', 'SMCO2', 'SMCO2', 'SMCO2', 'SMCO2', 'PTHLH', 'PTHLH', 'PTHLH', 'PTHLH', 'PTHLH', 'PTHLH', 'RP11-993B23.3', 'PTHLH', 'PTHLH', 'PTHLH', 'PTHLH', 'LRRK2', 'LRRK2', 'LRRK2', 'AC084290.2', 'MUC19', 'MUC19', 'MUC19', 'MUC19', 'MUC19', 'MUC19', 'MUC19', 'MUC19', 'MUC19', 'MUC19', 'MUC19', 'MUC19', 'MUC19', 'MUC19', 'BCDIN3D', 'BCDIN3D-AS1', 'BCDIN3D-AS1', 'BCDIN3D', 'FAM186A', 'FAM186A', 'FAM186A', 'KRT79', 'KRT79', 'KRT79', 'AAAS', 'AAAS', 'AAAS', 'AAAS', 'AAAS', 'AAAS', 'AAAS', 'AAAS', 'AAAS', 'AAAS', 'AAAS', 'AAAS', 'AAAS', 'AAAS', 'AAAS', 'AAAS', 'AAAS', 'AAAS', 'AAAS', 'ATP5G2', 'ATP5G2', 'ATP5G2', 'ATP5G2', 'ATP5G2', 'ATP5G2', 'ATP5G2', 'ATP5G2', 'ATP5G2', 'GDF11', 'GDF11', 'NACA', 'NACA', 'NACA', 'NACA', 'NACA', 'NACA', 'NACA', 'NACA', 'NACA', 'NACA', 'NACA', 'NACA', 'NACA', 'NACA', 'NACA', 'NACA', 'NACA', 'NACA', 'NACA', 'NACA', 'NACA', 'NACA', 'NACA', 'NACA', 'NACA', 'NACA', 'NACA', 'NACA', 'NACA', 'NACA', 'NACA', 'NACA', 'NACA', 'NACA', 'NACA', 'NACA', 'NACA', 'NACA', 'NACA', 'NACA', 'RDH16', 'RDH16', 'MIR26A2', 'CTDSP2', 'CTDSP2', 'CTDSP2', 'CTDSP2', 'CTDSP2', 'CTDSP2', 'CTDSP2', 'CTDSP2', 'OTOGL', 'OTOGL', 'MGAT4C', 'MGAT4C', 'MGAT4C', 'RP11-812D23.1', 'MGAT4C', 'MGAT4C', 'MGAT4C', 'MGAT4C', 'MGAT4C', 'MGAT4C', 'MGAT4C', 'DEPDC4', 'DEPDC4', 'DEPDC4', 'ACTR6', 'SART3', 'FICD', 'SART3', 'SART3', 'SART3', 'FICD', 'FICD', 'FICD', 'ACACB', 'ACACB', 'ACACB', 'ACACB', 'UBE3B', 'UBE3B', 'UBE3B', 'UBE3B', 'UBE3B', 'UBE3B', 'UBE3B', 'UBE3B', 'UBE3B', 'UBE3B', 'CCDC63', 'CCDC63', 'CCDC63', 'CCDC63', 'CUX2', 'RNA5SP373', 'DTX1', 'RASAL1', 'RASAL1', 'RASAL1', 'DTX1', 'DTX1', 'RASAL1', 'DTX1', 'FBXW8', 'FBXW8', 'VPS33A', 'VPS33A', 'RP11-512M8.5', 'VPS33A', 'VPS33A', 'VPS33A', 'VPS33A', 'VPS33A', 'VPS33A', 'VPS33A', 'C12orf65', 'CDK2AP1', 'C12orf65', 'C12orf65', 'C12orf65', 'CDK2AP1', 'C12orf65', 'CDK2AP1', 'C12orf65', 'RP11-282O18.3', 'CDK2AP1', 'RP11-282O18.3', 'C12orf65', 'RP11-282O18.3', 'CDK2AP1', 'RP11-282O18.3', 'C12orf65', 'ULK1', 'RP11-417L19.4', 'ULK1', 'ULK1', 'ULK1', 'ULK1', 'DDX51', 'NOC4L', 'DDX51', 'DDX51', 'DDX51', 'DDX51', 'DDX51', 'NOC4L', 'NOC4L', 'NOC4L', 'NOC4L', 'CHFR', 'CHFR', 'CHFR', 'CHFR', 'CHFR', 'CHFR', 'CHFR', 'CHFR', 'CHFR', 'CHFR', 'CHFR', 'CHFR', 'CHFR', 'CHFR', 'SKA3', 'SKA3', 'SKA3', 'SKA3', 'SKA3', 'SKA3', 'SKA3', 'SKA3', 'SKA3', 'SKA3', 'SKA3', 'SKA3', 'SKA3', 'SKA3', 'SKA3', 'SKA3', 'SKA3', 'SKA3', 'SACS', 'SACS', 'SACS', 'SACS', 'SACS', 'SACS', 'CENPJ', 'CENPJ', 'NUPL1', 'NUPL1', 'NUPL1', 'NUPL1', 'NUPL1', 'NUPL1', 'NUPL1', 'NUPL1', 'NUPL1', 'NUPL1', 'NUPL1', 'NUPL1', 'SPG20', 'SPG20', 'SPG20', 'SPG20', 'SPG20', 'SPG20', 'SPG20', 'VWA8', 'VWA8', 'VWA8', 'FAM194B', 'FAM194B', 'CYSLTR2', 'EBPL', 'EBPL', 'EBPL', 'EBPL', 'EBPL', 'EBPL', 'EBPL', 'ATP7B', 'ATP7B', 'ATP7B', 'ATP7B', 'ATP7B', 'ATP7B', 'ALG11', 'ALG11', 'SLAIN1', 'SLAIN1', 'SLAIN1', 'SLAIN1', 'SLAIN1', 'SLAIN1', 'SLAIN1', 'MIR3665', 'SLC10A2', 'RNASE7', 'NDRG2', 'RNASE7', 'NDRG2', 'RNASE7', 'NDRG2', 'RNASE7', 'NDRG2', 'SNORD9', 'SNORD8', 'CHD8', 'CHD8', 'CHD8', 'CHD8', 'CHD8', 'CHD8', 'CHD8', 'OXA1L', 'SLC7A7', 'OXA1L', 'SLC7A7', 'SLC7A7', 'SLC7A7', 'OXA1L', 'OXA1L', 'OXA1L', 'OXA1L', 'OXA1L', 'OXA1L', 'SLC7A7', 'SLC7A7', 'SLC7A7', 'SLC7A7', 'SLC7A7', 'SLC7A7', 'OXA1L', 'CMTM5', 'CMTM5', 'MYH6', 'CMTM5', 'MIR208A', 'CMTM5', 'MYH6', 'CMTM5', 'CMTM5', 'CMTM5', 'CPNE6', 'LRRC16B', 'LRRC16B', 'CPNE6', 'CPNE6', 'CPNE6', 'CPNE6', 'CPNE6', 'CPNE6', 'CPNE6', 'CPNE6', 'CPNE6', 'CPNE6', 'CPNE6', 'CPNE6', 'LRRC16B', 'CPNE6', 'CPNE6', 'LRRC16B', 'CPNE6', 'CPNE6', 'CPNE6', 'CPNE6', 'CPNE6', 'KHNYN', 'CBLN3', 'KHNYN', 'KHNYN', 'CBLN3', 'KHNYN', 'KHNYN', 'KHNYN', 'SDR39U1', 'SDR39U1', 'SDR39U1', 'SDR39U1', 'SDR39U1', 'SDR39U1', 'SDR39U1', 'KHNYN', 'SDR39U1', 'KHNYN', 'SDR39U1', 'SDR39U1', 'SDR39U1', 'SDR39U1', 'SDR39U1', 'SDR39U1', 'SDR39U1', 'SDR39U1', 'SDR39U1', 'SDR39U1', 'KHNYN', 'SDR39U1', 'SDR39U1', 'SDR39U1', 'SDR39U1', 'KHNYN', 'SNORA42', 'TTC6', 'TTC6', 'NID2', 'NID2', 'NID2', 'NID2', 'BMP4', 'BMP4', 'BMP4', 'BMP4', 'BMP4', 'BMP4', 'BMP4', 'BMP4', 'MIR5580', 'BMP4', 'C14orf37', 'C14orf37', 'UBA52P3', 'C14orf37', 'C14orf37', 'KIAA0586', 'KIAA0586', 'KIAA0586', 'KIAA0586', 'HSBP1P1', 'KIAA0586', 'ZBTB1', 'ZBTB1', 'ZBTB1', 'ZBTB1', 'RP11-973N13.4', 'ZBTB1', 'ZBTB1', 'ZC2HC1C', 'ZC2HC1C', 'ZC2HC1C', 'ZC2HC1C', 'ZC2HC1C', 'ZC2HC1C', 'ZC2HC1C', 'ZC2HC1C', 'ZC2HC1C', 'ACYP1', 'IRF2BPL', 'UBR7', 'UBR7', 'RP11-85G20.1', 'UBR7', 'UBR7', 'UBR7', 'UBR7', 'UBR7', 'UBR7', 'RP11-371E8.4', 'SERPINA12', 'SERPINA12', 'CCDC85C', 'CCNK', 'CCNK', 'CCDC85C', 'CCNK', 'CCDC85C', 'CCDC85C', 'RP11-688G15.3', 'CCDC85C', 'MIR433', 'MIR127', 'MIR136', 'MIR431', 'RTL1', 'MIR432', 'EXOC3L4', 'EXOC3L4', 'EXOC3L4', 'EXOC3L4', 'EXOC3L4', 'EXOC3L4', 'EXOC3L4', 'MTA1', 'MTA1', 'MTA1', 'MTA1', 'MTA1', 'MTA1', 'MTA1', 'MTA1', 'MTA1', 'MTA1', 'MTA1', 'MTA1', 'MTA1', 'MTA1', 'MTA1', 'MTA1', 'RP11-521B24.5', 'GOLGA6L6', 'POTEB2', 'POTEB2', 'AC100756.1', 'RN7SL536P', 'GOLGA8S', 'GOLGA8S', 'AC100756.1', 'RN7SL536P', 'GOLGA8S', 'GOLGA8S', 'GOLGA6L2', 'GOLGA6L2', 'GOLGA6L2', 'GOLGA6L2', 'GOLGA8G', 'GOLGA8G', 'AC138749.1', 'RN7SL829P', 'GOLGA8G', 'GOLGA8G', 'GOLGA8G', 'GOLGA8G', 'GOLGA8G', 'GOLGA8G', 'GOLGA8G', 'GOLGA8M', 'RN7SL719P', 'GOLGA8M', 'GOLGA8M', 'TJP1', 'TJP1', 'TJP1', 'TJP1', 'TJP1', 'GOLGA8J', 'AC120045.1', 'RN7SL673P', 'GOLGA8J', 'GOLGA8J', 'GOLGA8R', 'AC019322.1', 'RN7SL196P', 'GOLGA8R', 'GOLGA8H', 'RP11-932O9.8', 'AC139426.1', 'RN7SL185P', 'GOLGA8K', 'AC139426.1', 'RN7SL185P', 'GOLGA8K', 'AC139426.1', 'RN7SL185P', 'GOLGA8K', 'RP13-395E19.3', 'AC139426.2', 'RN7SL185P', 'GOLGA8K', 'RP13-395E19.3', 'AC139426.2', 'GOLGA8K', 'RP13-395E19.3', 'ULK4P1', 'ULK4P1', 'ULK4P1', 'AC135983.1', 'GOLGA8O', 'RN7SL539P', 'GOLGA8O', 'GOLGA8O', 'GOLGA8O', 'GOLGA8O', 'GOLGA8O', 'AC123768.1', 'AC123768.2', 'GOLGA8N', 'GOLGA8N', 'RN7SL286P', 'GOLGA8N', 'AC123768.4', 'GOLGA8N', 'GOLGA8B', 'GOLGA8B', 'MIR1233-2', 'GOLGA8B', 'GOLGA8B', 'GOLGA8A', 'GOLGA8B', 'GOLGA8B', 'NANOGP8', 'NANOGP8', 'RP11-323I15.3', 'PLA2G4D', 'PLA2G4D', 'TGM7', 'TGM7', 'DMXL2', 'DMXL2', 'DMXL2', 'DMXL2', 'DMXL2', 'ZNF280D', 'ZNF280D', 'ZNF280D', 'ZNF280D', 'ZNF280D', 'ZNF280D', 'ZNF280D', 'ZNF280D', 'ADAM10', 'ADAM10', 'ADAM10', 'ADAM10', 'ADAM10', 'ADAM10', 'ADAM10', 'ADAM10', 'ADAM10', 'ADAM10', 'ADAM10', 'ADAM10', 'CILP', 'CILP', 'IGDCC4', 'IGDCC4', 'NOX5', 'NOX5', 'NOX5', 'NOX5', 'NOX5', 'NOX5', 'NOX5', 'RP11-809H16.4', 'CD276', 'CD276', 'CD276', 'CD276', 'CD276', 'CD276', 'CD276', 'CD276', 'CD276', 'CD276', 'CD276', 'CD276', 'CD276', 'CD276', 'CD276', 'CD276', 'CD276', 'DNAJA4', 'DNAJA4', 'DNAJA4', 'DNAJA4', 'DNAJA4', 'DNAJA4', 'DNAJA4', 'DNAJA4', 'DNAJA4', 'RP11-762H8.3', 'RP11-762H8.3', 'GOLGA6L18', 'GOLGA6L18', 'GOLGA6L18', 'GOLGA6L18', 'GOLGA6L18', 'GOLGA6L18', 'ACAN', 'ACAN', 'ACAN', 'ACAN', 'ACAN', 'WDR93', 'WDR93', 'WDR93', 'FES', 'FES', 'FES', 'FES', 'FES', 'FES', 'FES', 'FES', 'FES', 'FES', 'FES', 'FES', 'FES', 'FES', 'FES', 'FES', 'FES', 'FES', 'CERS3', 'CERS3', 'CERS3', 'CERS3', 'NPRL3', 'NPRL3', 'NPRL3', 'NPRL3', 'NPRL3', 'NPRL3', 'NPRL3', 'Z69666.2', 'NPRL3', 'NPRL3', 'NPRL3', 'NPRL3', 'NPRL3', 'MRPS34', 'NME3', 'MAPK8IP3', 'SPSB3', 'EME2', 'MRPS34', 'EME2', 'NME3', 'EME2', 'NME3', 'NME3', 'SPSB3', 'SPSB3', 'SPSB3', 'NME3', 'SPSB3', 'EME2', 'NME3', 'NME3', 'SPSB3', 'EME2', 'NME3', 'SPSB3', 'SPSB3', 'NME3', 'NME3', 'SPSB3', 'EME2', 'NME3', 'SPSB3', 'MRPS34', 'SPSB3', 'EME2', 'IGFALS', 'NUBP2', 'IGFALS', 'NUBP2', 'NUBP2', 'NUBP2', 'NUBP2', 'NUBP2', 'HAGH', 'NUBP2', 'NUBP2', 'NUBP2', 'NUBP2', 'NUBP2', 'NUBP2', 'IGFALS', 'NUBP2', 'NUBP2', 'NUBP2', 'NUBP2', 'SPSB3', 'NUBP2', 'TSC2', 'PKD1', 'TSC2', 'TSC2', 'TSC2', 'TSC2', 'MIR1225', 'PKD1', 'TSC2', 'TSC2', 'PKD1', 'PKD1', 'PKD1', 'PKD1', 'TSC2', 'PKD1', 'PKD1', 'RP11-304L19.1', 'PKD1', 'RP11-304L19.3', 'PKD1', 'TSC2', 'PKD1', 'TSC2', 'TSC2', 'RP11-304L19.1', 'PKD1', 'MIR1225', 'PKD1', 'PKD1', 'PKD1', 'PKD1', 'PKD1', 'PKD1', 'PKD1', 'PKD1', 'PKD1', 'PKD1', 'PKD1', 'PKD1', 'PKD1', 'RP11-304L19.1', 'PKD1', 'RP11-304L19.3', 'PKD1', 'PKD1', 'PKD1', 'PKD1', 'PKD1', 'RP11-304L19.1', 'PKD1', 'TNFRSF12A', 'CLDN6', 'TNFRSF12A', 'CLDN6', 'CLDN9', 'TNFRSF12A', 'CLDN6', 'TNFRSF12A', 'TNFRSF12A', 'TNFRSF12A', 'TNFRSF12A', 'RBFOX1', 'RBFOX1', 'RBFOX1', 'RBFOX1', 'RBFOX1', 'RBFOX1', 'RBFOX1', 'RBFOX1', 'RBFOX1', 'RBFOX1', 'RBFOX1', 'RBFOX1', 'RBFOX1', 'RBFOX1', 'RBFOX1', 'RP11-166B2.1', 'RP11-166B2.1', 'RP11-166B2.1', 'RP11-166B2.1', 'RP11-166B2.1', 'RP11-166B2.1', 'RP11-166B2.1', 'RP11-166B2.1', 'RP11-166B2.1', 'RP11-166B2.1', 'RP11-166B2.1', 'MYH11', 'MYH11', 'MYH11', 'MYH11', 'MYH11', 'GGA2', 'GGA2', 'GGA2', 'GGA2', 'GGA2', 'GGA2', 'ERN2', 'ERN2', 'ERN2', 'ERN2', 'CTD-2385L22.1', 'ERN2', 'ERN2', 'KDM8', 'KDM8', 'KDM8', 'KDM8', 'KDM8', 'KDM8', 'KDM8', 'CTD-3203P2.1', 'KDM8', 'KDM8', 'KDM8', 'KDM8', 'KDM8', 'KDM8', 'SBK1', 'NPIPB6', 'NPIPB6', 'SNX29P2', 'NPIPB11', 'RP11-231C14.3', 'SNX29P2', 'RP11-231C14.3', 'RP11-345J4.5', 'RP11-345J4.5', 'RP11-345J4.6', 'RP11-345J4.5', 'RP11-231C14.4', 'SNX29P2', 'RP11-231C14.5', 'RP11-231C14.4', 'RP11-231C14.4', 'RP11-231C14.4', 'RP11-231C14.4', 'SLX1A', 'BOLA2B', 'SULT1A3', 'SLX1A', 'SULT1A3', 'SULT1A3', 'SULT1A3', 'SULT1A3', 'SLX1A-SULT1A3', 'SLX1A', 'SLX1A', 'SLX1A', 'SLX1A', 'SLX1A-SULT1A3', 'BOLA2B', 'SLX1A-SULT1A3', 'SULT1A3', 'BOLA2B', 'SLX1A-SULT1A3', 'SLX1A-SULT1A3', 'BOLA2B', 'SLX1A-SULT1A3', 'SRCAP', 'SRCAP', 'SRCAP', 'SRCAP', 'SRCAP', 'FBXL19', 'FBXL19', 'FBXL19', 'FBXL19', 'FBXL19', 'FBXL19', 'FBXL19', 'SLC6A2', 'SLC6A2', 'SLC6A2', 'SLC6A2', 'SLC6A2', 'SLC6A2', 'SLC6A2', 'SLC6A2', 'NLRC5', 'NLRC5', 'NLRC5', 'NLRC5', 'NLRC5', 'NLRC5', 'NLRC5', 'NLRC5', 'NLRC5', 'NLRC5', 'NLRC5', 'NLRC5', 'NLRC5', 'NLRC5', 'NLRC5', 'NLRC5', 'NLRC5', 'RP11-322D14.2', 'CNGB1', 'CNGB1', 'CNGB1', 'CNGB1', 'CNGB1', 'CDH5', 'CDH5', 'CDH5', 'CDH5', 'CDH5', 'CDH5', 'NUTF2', 'THAP11', 'CENPT', 'CENPT', 'CENPT', 'CENPT', 'CENPT', 'CENPT', 'CENPT', 'CENPT', 'NUTF2', 'CENPT', 'CENPT', 'NUTF2', 'NUTF2', 'NUTF2', 'CENPT', 'CENPT', 'CENPT', 'CENPT', 'NUTF2', 'NUTF2', 'NOB1', 'NOB1', 'NOB1', 'NOB1', 'NOB1', 'NOB1', 'PDXDC2P', 'PDXDC2P', 'PDXDC2P', 'PDXDC2P', 'PDXDC2P', 'PDXDC2P', 'PDXDC2P', 'PDXDC2P', 'RFWD3', 'RFWD3', 'RFWD3', 'RFWD3', 'RFWD3', 'RFWD3', 'RFWD3', 'RP11-144N1.1', 'RFWD3', 'RFWD3', 'TMEM231', 'TMEM231', 'TMEM231', 'RP11-77K12.8', 'TMEM231', 'TMEM231', 'TMEM231', 'TMEM231', 'TMEM231', 'WWOX', 'WWOX', 'WWOX', 'WWOX', 'WWOX', 'WWOX', 'WWOX', 'WWOX', 'WWOX', 'WWOX', 'WWOX', 'WWOX', 'TUBB3', 'MC1R', 'AC092143.1', 'TUBB3', 'TUBB3', 'TUBB3', 'TUBB3', 'TUBB3', 'RP11-566K11.4', 'TUBB3', 'MC1R', 'MC1R', 'TUBB3', 'TUBB3', 'TUBB3', 'TUBB3', 'TUBB3', 'TUBB3', 'TUBB3', 'TUBB3', 'RP11-566K11.7', 'RPH3AL', 'RPH3AL', 'RPH3AL', 'RPH3AL', 'RPH3AL', 'RPH3AL', 'RPH3AL', 'RPH3AL', 'MYO1C', 'MYO1C', 'MYO1C', 'MYO1C', 'MYO1C', 'MYO1C', 'MYO1C', 'MYO1C', 'MYO1C', 'MYO1C', 'MYO1C', 'MYO1C', 'MYO1C', 'MYO1C', 'MYO1C', 'CLUH', 'CLUH', 'CLUH', 'CLUH', 'CLUH', 'CLUH', 'CLUH', 'CLUH', 'CLUH', 'CLUH', 'CLUH', 'ITGAE', 'ZFP3', 'FGF11', 'TMEM102', 'TMEM102', 'RP11-104H15.9', 'FGF11', 'FGF11', 'FGF11', 'RP11-104H15.7', 'RP11-104H15.10', 'FGF11', 'FGF11', 'RP11-104H15.8', 'SAT2', 'SHBG', 'SHBG', 'SAT2', 'SHBG', 'SHBG', 'SHBG', 'SHBG', 'SHBG', 'SAT2', 'SAT2', 'SAT2', 'SHBG', 'SAT2', 'SHBG', 'SAT2', 'SHBG', 'SAT2', 'SAT2', 'SHBG', 'SAT2', 'SHBG', 'SHBG', 'SHBG', 'SAT2', 'SHBG', 'SHBG', 'SHBG', 'SAT2', 'SAT2', 'SHBG', 'SHBG', 'SHBG', 'SAT2', 'TMEM107', 'SNORD118', 'TMEM107', 'TMEM107', 'TMEM107', 'TMEM107', 'TMEM107', 'TMEM107', 'TMEM107', 'TMEM107', 'RP11-599B13.7', 'ARHGEF15', 'ARHGEF15', 'ARHGEF15', 'ARHGEF15', 'ARHGEF15', 'ARHGEF15', 'ARHGEF15', 'NCOR1', 'NCOR1', 'NCOR1', 'NCOR1', 'AC002553.1', 'NCOR1', 'TTC19', 'NCOR1', 'NCOR1', 'NCOR1', 'NCOR1', 'NCOR1', 'NCOR1', 'NCOR1', 'MYO15A', 'SSH2', 'SSH2', 'SSH2', 'SSH2', 'SSH2', 'RP11-82O19.1', 'SSH2', 'SSH2', 'SLC6A4', 'SLC6A4', 'SLC6A4', 'SLC6A4', 'SLC6A4', 'RP11-354P11.4', 'SLFN13', 'SLFN13', 'SLFN13', 'SLFN13', 'SLFN13', 'SLFN13', 'SLFN13', 'SLFN13', 'SLFN13', 'SLFN13', 'SLFN13', 'TBC1D3B', 'TBC1D3B', 'TBC1D3B', 'TBC1D3B', 'TBC1D3B', 'TBC1D3B', 'CTB-91J4.1', 'TBC1D3G', 'TBC1D3G', 'TBC1D3G', 'TBC1D3H', 'TBC1D3H', 'TBC1D3G', 'TBC1D3G', 'TBC1D3G', 'TBC1D3G', 'TBC1D3G', 'TBC1D3G', 'TBC1D3G', 'TBC1D3G', 'TBC1D3G', 'MYO19', 'MYO19', 'MYO19', 'MYO19', 'MYO19', 'MYO19', 'MYO19', 'MYO19', 'MYO19', 'MYO19', 'MYO19', 'TBC1D3F', 'TBC1D3F', 'TBC1D3F', 'TBC1D3F', 'TBC1D3F', 'TBC1D3F', 'MLLT6', 'MLLT6', 'MLLT6', 'MLLT6', 'MLLT6', 'MIR4726', 'CTB-58E17.9', 'MLLT6', 'KRT10', 'TMEM99', 'TMEM99', 'TMEM99', 'PYY', 'PYY', 'C17orf104', 'C17orf104', 'C17orf104', 'C17orf104', 'C17orf104', 'C17orf104', 'CDC27', 'CDC27', 'CDC27', 'CDC27', 'CDC27', 'CDC27', 'CDC27', 'CDC27', 'CDC27', 'CDC27', 'CDC27', 'CDC27', 'CDC27', 'CDC27', 'CDC27', 'CDC27', 'CDC27', 'CDC27', 'CDC27', 'CDC27', 'CDC27', 'CDC27', 'CDC27', 'CDC27', 'CDC27', 'CDC27', 'DLX3', 'DLX3', 'MYCBPAP', 'MYCBPAP', 'MYCBPAP', 'MYCBPAP', 'MYCBPAP', 'MYCBPAP', 'MYCBPAP', 'MYCBPAP', 'MYCBPAP', 'WFIKKN2', 'WFIKKN2', 'RP11-506D12.5', 'EPX', 'LPO', 'LPO', 'LPO', 'LPO', 'LPO', 'LPO', 'LPO', 'LPO', 'LPO', 'LRRC37A3', 'LRRC37A3', 'LRRC37A3', 'LRRC37A3', 'RP11-927P21.1', 'LRRC37A3', 'LRRC37A3', 'LRRC37A3', 'RP11-927P21.2', 'RP11-927P21.1', 'LRRC37A3', 'LRRC37A3', 'RP11-927P21.1', 'RP11-927P21.9', 'KPNA2', 'KPNA2', 'KPNA2', 'KPNA2', 'KPNA2', 'KPNA2', 'KPNA2', 'FAM20A', 'FAM20A', 'PRKAR1A', 'FAM20A', 'FAM20A', 'FAM20A', 'FAM20A', 'AC079210.1', 'GRIN2C', 'TMEM104', 'GRIN2C', 'TMEM104', 'TMEM104', 'TMEM104', 'GRIN2C', 'HID1', 'HID1', 'HID1', 'HID1', 'HID1', 'HID1', 'HID1', 'HID1', 'HID1', 'HID1', 'HID1', 'HID1', 'HID1', 'FBF1', 'FBF1', 'FBF1', 'FBF1', 'FBF1', 'FBF1', 'RP11-552F3.12', 'AANAT', 'UBE2O', 'UBE2O', 'DNAH17', 'DNAH17', 'DNAH17', 'DNAH17', 'DNAH17', 'DNAH17', 'DNAH17', 'C1QTNF1', 'C1QTNF1', 'C1QTNF1', 'C1QTNF1', 'C1QTNF1', 'C1QTNF1', 'C1QTNF1', 'C1QTNF1', 'C1QTNF1', 'C1QTNF1', 'C1QTNF1', 'C17orf70', 'FSCN2', 'FSCN2', 'C17orf70', 'C17orf70', 'FSCN2', 'C17orf70', 'C17orf70', 'FSCN2', 'FSCN2', 'C17orf70', 'C17orf70', 'FSCN2', 'C17orf70', 'RP11-683L23.1', 'RP11-683L23.1', 'RP11-683L23.1', 'RP11-683L23.2', 'RP11-683L23.1', 'RP11-683L23.1', 'YES1', 'YES1', 'YES1', 'MYL12A', 'MYL12A', 'MYL12A', 'MYL12A', 'MYL12A', 'MYL12A', 'RP13-270P17.1', 'MYL12A', 'MYL12A', 'MYL12A', 'RP13-270P17.1', 'MYL12A', 'L3MBTL4', 'L3MBTL4', 'L3MBTL4', 'L3MBTL4', 'L3MBTL4', 'RP11-793A3.2', 'RALBP1', 'RALBP1', 'GATA6', 'RP11-627G18.2', 'GATA6-AS1', 'GATA6', 'GATA6-AS1', 'GATA6-AS1', 'GATA6-AS1', 'CHST9', 'AQP4-AS1', 'AQP4-AS1', 'AQP4-AS1', 'CHST9', 'CHST9', 'AQP4-AS1', 'PIAS2', 'PIAS2', 'PIAS2', 'PIAS2', 'PIAS2', 'PIAS2', 'DYNAP', 'DYNAP', 'GPX4', 'SBNO2', 'SBNO2', 'GPX4', 'GPX4', 'SBNO2', 'SBNO2', 'GPX4', 'SBNO2', 'GPX4', 'GPX4', 'GPX4', 'GPX4', 'GPX4', 'SF3A2', 'AMH', 'JSRP1', 'SF3A2', 'JSRP1', 'SF3A2', 'SF3A2', 'AMH', 'SF3A2', 'SF3A2', 'MIR4321', 'SF3A2', 'SF3A2', 'AMH', 'JSRP1', 'AMH', 'TIMM13', 'LMNB2', 'TMPRSS9', 'LMNB2', 'LMNB2', 'LMNB2', 'TIMM13', 'S1PR4', 'S1PR4', 'CHAF1A', 'UBXN6', 'UBXN6', 'MIR4746', 'UBXN6', 'UBXN6', 'UBXN6', 'CTB-50L17.7', 'CHAF1A', 'UBXN6', 'UBXN6', 'UBXN6', 'UBXN6', 'UBXN6', 'PLIN4', 'CATSPERD', 'CATSPERD', 'CRB3', 'CRB3', 'DENND1C', 'DENND1C', 'DENND1C', 'DENND1C', 'DENND1C', 'DENND1C', 'SLC25A23', 'CRB3', 'CRB3', 'FCER2', 'FCER2', 'FCER2', 'FCER2', 'FCER2', 'FCER2', 'FCER2', 'CTD-3193O13.9', 'CTD-3193O13.9', 'CTD-3193O13.11', 'CTD-3193O13.9', 'FBN3', 'FBN3', 'FBN3', 'CD320', 'CD320', 'NDUFA7', 'NDUFA7', 'CD320', 'CD320', 'CD320', 'NDUFA7', 'CD320', 'NDUFA7', 'OR2Z1', 'RPL23AP78', 'ZNF558', 'CTD-2529P6.4', 'ZNF558', 'MBD3L1', 'ZNF558', 'ZNF558', 'ZNF558', 'MUC16', 'MUC16', 'MUC16', 'MUC16', 'MUC16', 'MUC16', 'MUC16', 'MUC16', 'MUC16', 'MUC16', 'MUC16', 'MUC16', 'MUC16', 'MUC16', 'MUC16', 'MUC16', 'MUC16', 'MUC16', 'MUC16', 'COL5A3', 'CTD-2553C6.1', 'RAVER1', 'RAVER1', 'CTD-2369P2.12', 'RAVER1', 'RAVER1', 'RAVER1', 'CDC37', 'CDC37', 'CDC37', 'CDC37', 'CDC37', 'CDC37', 'CDC37', 'CDC37', 'CDC37', 'CDC37', 'CDC37', 'CDC37', 'CDC37', 'CDC37', 'CDC37', 'CDC37', 'CDC37', 'CDC37', 'CDC37', 'CDC37', 'CCDC151', 'RGL3', 'RGL3', 'RGL3', 'CCDC151', 'RGL3', 'RGL3', 'RGL3', 'RGL3', 'RGL3', 'RGL3', 'RGL3', 'RGL3', 'RGL3', 'RGL3', 'CCDC151', 'CCDC151', 'CCDC151', 'MYO9B', 'MYO9B', 'MYO9B', 'MYO9B', 'MYO9B', 'MYO9B', 'MYO9B', 'MYO9B', 'MYO9B', 'MYO9B', 'MYO9B', 'CTD-3032J10.3', 'MYO9B', 'ANKLE1', 'ANKLE1', 'ANKLE1', 'ANKLE1', 'ANKLE1', 'ANKLE1', 'CTD-2278I10.6', 'ANKLE1', 'ANKLE1', 'USHBP1', 'ANKLE1', 'ANKLE1', 'CCDC124', 'CCDC124', 'CCDC124', 'ARMC6', 'ARMC6', 'ARMC6', 'ARMC6', 'ARMC6', 'ARMC6', 'ARMC6', 'ARMC6', 'ARMC6', 'ARMC6', 'ARMC6', 'ARMC6', 'ARMC6', 'ARMC6', 'ARMC6', 'ARMC6', 'ARMC6', 'ARMC6', 'MEF2B', 'MEF2BNB-MEF2B', 'MEF2BNB-MEF2B', 'MEF2BNB', 'MEF2BNB', 'MEF2BNB', 'MEF2BNB', 'MEF2BNB', 'MEF2BNB-MEF2B', 'MEF2BNB', 'MEF2BNB', 'MEF2BNB', 'MEF2BNB', 'MEF2BNB-MEF2B', 'MEF2B', 'MEF2BNB-MEF2B', 'MEF2BNB-MEF2B', 'MEF2BNB-MEF2B', 'CTC-513N18.7', 'ZNF626', 'ZNF626', 'ZNF66', 'ZNF66', 'AC010329.1', 'ZNF85', 'ZNF85', 'ZNF85', 'ZNF85', 'ZNF85', 'ZNF85', 'ZNF85', 'ZNF85', 'ZNF85', 'ZNF85', 'ZNF85', 'ZNF85', 'ZNF98', 'ZNF98', 'ZNF492', 'CTC-457E21.9', 'HAUS5', 'HAUS5', 'HAUS5', 'HAUS5', 'HAUS5', 'HAUS5', 'HAUS5', 'HAUS5', 'HAUS5', 'WDR62', 'WDR62', 'WDR62', 'AC012309.5', 'CTD-3220F14.1', 'CTD-3220F14.1', 'AC012309.5', 'CTD-3220F14.1', 'AC012309.5', 'CTD-3220F14.1', 'AC012309.5', 'AC012309.5', 'AC012309.5', 'ZNF573', 'ZNF573', 'ZNF573', 'ZNF573', 'ZNF573', 'ZNF573', 'ZNF573', 'ZNF573', 'ZNF573', 'ZNF573', 'ZNF573', 'ZNF573', 'DPF1', 'DPF1', 'DPF1', 'DPF1', 'DPF1', 'DPF1', 'DPF1', 'DPF1', 'DPF1', 'DPF1', 'DPF1', 'DPF1', 'DPF1', 'DPF1', 'SYCN', 'NCCRP1', 'MAP3K10', 'TTC9B', 'MAP3K10', 'TTC9B', 'MAP3K10', 'MAP3K10', 'MAP3K10', 'CYP2A6', 'CYP2A6', 'CYP2A6', 'CYP2A6', 'CTC-490E21.12', 'CYP2A6', 'CYP2A6', 'CYP2A6', 'CYP2A6', 'CTC-490E21.12', 'ARHGEF1', 'ARHGEF1', 'ARHGEF1', 'ARHGEF1', 'ARHGEF1', 'ARHGEF1', 'ARHGEF1', 'ARHGEF1', 'ARHGEF1', 'ARHGEF1', 'ARHGEF1', 'ARHGEF1', 'ARHGEF1', 'ARHGEF1', 'ARHGEF1', 'ARHGEF1', 'CIC', 'PAFAH1B3', 'PAFAH1B3', 'CIC', 'CIC', 'CIC', 'CIC', 'CIC', 'CIC', 'PAFAH1B3', 'PAFAH1B3', 'PAFAH1B3', 'PAFAH1B3', 'PAFAH1B3', 'PSG1', 'PSG1', 'PSG1', 'PSG1', 'PSG1', 'PSG1', 'PSG1', 'PSG1', 'PSG1', 'PSG4', 'PSG4', 'PSG4', 'PSG4', 'PSG4', 'PSG4', 'PSG4', 'PSG4', 'PSG4', 'PSG4', 'PSG4', 'PSG4', 'PSG4', 'PSG4', 'PSG4', 'PSG4', 'ZNF575', 'ZNF575', 'ZNF575', 'ZNF575', 'ZNF575', 'HRC', 'TRPM4', 'PPFIA3', 'TRPM4', 'TRPM4', 'HRC', 'TRPM4', 'HRC', 'TRPM4', 'TRPM4', 'TRPM4', 'TRPM4', 'HRC', 'TRPM4', 'PPFIA3', 'PPFIA3', 'PPFIA3', 'PPFIA3', 'PPFIA3', 'PPFIA3', 'PRR12', 'SCAF1', 'SCAF1', 'SCAF1', 'SCAF1', 'SCAF1', 'SCAF1', 'SCAF1', 'SCAF1', 'SCAF1', 'SCAF1', 'SCAF1', 'SCAF1', 'SCAF1', 'SCAF1', 'SCAF1', 'SCAF1', 'SCAF1', 'SCAF1', 'SCAF1', 'SCAF1', 'PRMT1', 'ADM5', 'PRMT1', 'PRMT1', 'PRMT1', 'PRMT1', 'PRMT1', 'PRMT1', 'PRMT1', 'PRMT1', 'PRMT1', 'PRMT1', 'PRMT1', 'PRMT1', 'PRMT1', 'PRMT1', 'PRMT1', 'PRMT1', 'PRMT1', 'PRMT1', 'PRMT1', 'AC011495.1', 'CTB-33G10.6', 'CLEC11A', 'SHANK1', 'CLEC11A', 'ZNF432', 'ZNF432', 'ZNF432', 'ZNF432', 'ZNF432', 'ZNF432', 'ZNF432', 'ZNF432', 'ZNF432', 'ZNF432', 'ZNF432', 'ZNF432', 'ZNF432', 'ZNF432', 'ZNF415', 'ZNF415', 'ZNF415', 'ZNF415', 'ZNF415', 'ZNF415', 'ZNF415', 'ZNF415', 'ZNF415', 'ZNF415', 'ZNF415', 'ZNF415', 'ZNF415', 'ZNF415', 'ZNF415', 'ZNF415', 'ZNF415', 'ZNF415', 'ZNF415', 'ZNF415', 'ZNF415', 'ZNF415', 'ZNF415', 'ZNF415', 'ZNF415', 'ZNF415', 'ZNF415', 'ZNF347', 'ZNF415', 'ZNF415', 'PRPF31', 'PRPF31', 'PRPF31', 'PRPF31', 'PRPF31', 'PRPF31', 'AC012314.8', 'PRPF31', 'PRPF31', 'KIR2DL3', 'KIR2DL4', 'CTB-61M7.1', 'KIR3DL1', 'KIR2DP1', 'KIR2DL3', 'KIR3DL1', 'KIR3DL1', 'KIR2DL1', 'KIR2DL1', 'KIR2DL4', 'CTB-61M7.1', 'KIR3DL1', 'KIR2DL3', 'KIR3DL1', 'KIR3DL1', 'KIR2DL1', 'KIR2DL1', 'KIR2DL4', 'CTB-61M7.1', 'KIR3DL1', 'KIR2DL3', 'KIR3DL1', 'KIR3DL1', 'KIR2DL1', 'KIR2DL1', 'KIR2DL4', 'CTB-61M7.1', 'KIR3DL1', 'KIR2DL3', 'KIR3DL1', 'KIR3DL1', 'KIR2DL4', 'KIR2DL4', 'KIR2DL4', 'KIR2DL4', 'KIR2DL4', 'KIR2DL4', 'KIR2DL4', 'KIR3DL1', 'KIR2DL4', 'KIR2DL4', 'KIR3DL1', 'KIR3DL1', 'KIR2DL4', 'KIR2DL4', 'KIR2DL4', 'KIR2DL4', 'KIR2DL4', 'KIR2DL4', 'KIR2DL4', 'KIR3DL1', 'KIR2DL4', 'KIR2DL4', 'KIR3DL1', 'KIR3DL1', 'KIR2DL4', 'KIR2DL4', 'KIR2DL4', 'KIR2DL4', 'KIR2DL4', 'KIR2DL4', 'KIR2DL4', 'KIR3DL1', 'KIR2DL4', 'KIR2DL4', 'KIR3DL1', 'KIR3DL1', 'KIR2DL4', 'KIR2DL4', 'KIR2DL4', 'KIR2DL4', 'KIR2DL4', 'KIR2DL4', 'KIR2DL4', 'KIR3DL1', 'KIR2DL4', 'KIR2DL4', 'KIR3DL1', 'KIR3DL1', 'KIR2DL4', 'KIR2DL4', 'KIR2DL4', 'KIR2DL4', 'KIR2DL4', 'KIR2DL4', 'KIR2DL4', 'KIR3DL1', 'KIR2DL4', 'KIR2DL4', 'KIR3DL1', 'KIR3DL1', 'KIR2DL4', 'KIR2DL4', 'KIR2DL4', 'KIR2DL4', 'KIR2DL4', 'KIR2DL4', 'KIR2DL4', 'KIR3DL1', 'KIR2DL4', 'KIR2DL4', 'KIR3DL1', 'KIR3DL1', 'KIR2DL4', 'KIR2DL4', 'KIR2DL4', 'KIR2DL4', 'KIR2DL4', 'KIR2DL4', 'KIR2DL4', 'KIR3DL1', 'KIR2DL4', 'KIR2DL4', 'KIR3DL1', 'KIR3DL1', 'KIR2DL4', 'KIR2DL4', 'KIR2DL4', 'KIR2DL4', 'KIR2DL4', 'KIR2DL4', 'KIR2DL4', 'KIR3DL1', 'KIR2DL4', 'KIR2DL4', 'KIR3DL1', 'KIR3DL1', 'KIR2DL4', 'KIR2DL4', 'KIR2DL4', 'KIR2DL4', 'KIR2DL4', 'KIR2DL4', 'KIR2DL4', 'KIR3DL1', 'KIR2DL4', 'KIR2DL4', 'KIR3DL1', 'KIR3DL1', 'KIR2DL4', 'KIR2DL4', 'KIR2DL4', 'KIR2DL4', 'KIR2DL4', 'KIR2DL4', 'KIR2DL4', 'KIR3DL1', 'KIR2DL4', 'KIR2DL4', 'KIR3DL1', 'KIR3DL1', 'KIR3DL1', 'KIR2DS4', 'KIR3DL1', 'KIR3DL1', 'KIR2DS4', 'KIR3DL1', 'KIR3DL1', 'KIR3DL1', 'FCAR', 'FCAR', 'FCAR', 'FCAR', 'FCAR', 'FCAR', 'FCAR', 'FCAR', 'FCAR', 'FCAR', 'FCAR', 'FCAR', 'FCAR', 'CTB-61M7.2', 'SBK2', 'SBK2', 'SBK2', 'SBK2', 'SBK3', 'SBK2', 'SBK3', 'SBK3', 'ZNF8', 'AC010642.1', 'ZNF544', 'ZNF544', 'CTD-3138B18.5', 'CTD-3138B18.4', 'ZNF8', 'UBOX5', 'UBOX5', 'FASTKD5', 'UBOX5-AS1', 'UBOX5', 'SLC4A11', 'SLC4A11', 'SLC4A11', 'SLC4A11', 'SLC4A11', 'SLC4A11', 'SLC4A11', 'SLC4A11', 'SLC4A11', 'SLC4A11', 'SLC4A11', 'SLC4A11', 'SLC4A11', 'SLC4A11', 'SLC4A11', 'SLC4A11', 'SLC4A11', 'SLC4A11', 'CDC25B', 'CDC25B', 'CENPB', 'SPEF1', 'SPEF1', 'SPEF1', 'SLC23A2', 'SLC23A2', 'SLC23A2', 'SLC23A2', 'SLC23A2', 'SLC23A2', 'SNORA31', 'PROKR2', 'PROKR2', 'PROKR2', 'PROKR2', 'JAG1', 'JAG1', 'C20orf26', 'C20orf26', 'C20orf26', 'C20orf26', 'C20orf26', 'C20orf26', 'C20orf26', 'RP5-1002M8.4', 'C20orf26', 'VSX1', 'VSX1', 'VSX1', 'VSX1', 'VSX1', 'VSX1', 'VSX1', 'VSX1', 'VSX1', 'VSX1', 'PIGU', 'PIGU', 'PIGU', 'PIGU', 'PIGU', 'PHF20', 'PHF20', 'PHF20', 'PHF20', 'PHF20', 'PHF20', 'PIGT', 'PIGT', 'PIGT', 'PIGT', 'PIGT', 'PIGT', 'PIGT', 'PIGT', 'PIGT', 'PTPN1', 'RP4-530I15.9', 'PTPN1', 'ATP9A', 'ATP9A', 'ATP9A', 'HELZ2', 'HELZ2', 'HELZ2', 'HELZ2', 'TEKT4P2', 'TEKT4P2', 'TPTE', 'TPTE', 'TPTE', 'TPTE', 'TPTE', 'TPTE', 'BAGE2', 'BAGE2', 'BAGE2', 'BAGE2', 'CXADR', 'CXADR', 'CXADR', 'CXADR', 'CXADR', 'CXADR', 'KRTAP13-1', 'TIAM1', 'TIAM1', 'TIAM1', 'TIAM1', 'TTC3', 'TTC3', 'TTC3', 'TTC3', 'TTC3', 'TTC3', 'TTC3', 'TTC3', 'TTC3', 'TTC3', 'TTC3', 'TTC3', 'TMPRSS3', 'TMPRSS3', 'TMPRSS3', 'TMPRSS3', 'TMPRSS3', 'TMPRSS3', 'TMPRSS3', 'SIK1', 'SIK1', 'TRAPPC10', 'TRAPPC10', 'TRAPPC10', 'TRAPPC10', 'TRAPPC10', 'TRAPPC10', 'TRAPPC10', 'TRAPPC10', 'TSPEAR', 'KRTAP10-9', 'KRTAP10-9', 'TSPEAR', 'KRTAP10-9', 'KRTAP10-9', 'TSPEAR', 'KRTAP10-9', 'KRTAP10-9', 'COL6A2', 'COL6A2', 'COL6A2', 'COL6A2', 'COL6A2', 'COL6A2', 'PCNT', 'PCNT', 'PCNT', 'PCNT', 'IL17RA', 'AC008132.1', 'GGT3P', 'GGT3P', 'GGT3P', 'GGT3P', 'AC008132.13', 'AC008132.13', 'AC008132.13', 'AC008132.13', 'BCRP7', 'DGCR2', 'DGCR2', 'DGCR2', 'DGCR2', 'DGCR2', 'DGCR2', 'GGTLC3', 'GGTLC3', 'GGTLC3', 'GGTLC3', 'GGTLC3', 'GGTLC3', 'GGTLC3', 'GGTLC3', 'GGTLC3', 'GGTLC3', 'GGTLC3', 'GGTLC3', 'GGTLC3', 'GGTLC3', 'RN7SKP131', 'RIMBP3', 'SCARNA18', 'SCARNA17', 'RN7SKP131', 'RIMBP3', 'SCARNA18', 'SCARNA17', 'GGT2', 'GGT2', 'GGT2', 'GGT1', 'GGT1', 'GGT1', 'GGT1', 'GGT1', 'GGT1', 'GGT1', 'GGT1', 'GGT1', 'GGT1', 'GGT1', 'GGT1', 'GGT1', 'GGT1', 'GGT1', 'GGT1', 'GGT1', 'GGT1', 'GGT1', 'GGT1', 'GGT1', 'GGT1', 'GGT1', 'GGT1', 'GGT1', 'GGT1', 'GGT1', 'GGT1', 'GGT1', 'GGT1', 'GGT1', 'GGT1', 'GGT1', 'GGT1', 'GGT1', 'GGT1', 'GGT1', 'GGT1', 'GGT1', 'GGT1', 'GGT1', 'GGT1', 'GGT1', 'GGT1', 'GGT1', 'GGT1', 'GGT1', 'GGT1', 'GGT1', 'GGT1', 'GGT1', 'GGT1', 'GGT1', 'GGT1', 'GGT1', 'GGT1', 'GGT1', 'GGT1', 'GGT1', 'GGT1', 'GGT1', 'GGT1', 'GGT1', 'GGT1', 'GGT1', 'GGT1', 'GGT1', 'GGT1', 'GGT1', 'GGT1', 'GGT1', 'GGT1', 'GGT1', 'GGT1', 'GGT1', 'GGT1', 'GGT1', 'GGT1', 'GGT1', 'GGT1', 'GGT1', 'GGT1', 'GGT1', 'GGT1', 'GGT1', 'GGT1', 'GGT1', 'GGT1', 'GGT1', 'GGT1', 'GGT1', 'GGT1', 'GGT1', 'GGT1', 'GGT1', 'GGT1', 'GGT1', 'GGT1', 'GGT1', 'GGT1', 'GGT1', 'GGT1', 'GGT1', 'GGT1', 'GGT1', 'GGT1', 'GGT1', 'GGT1', 'GGT1', 'GGT1', 'BCRP3', 'GGT1', 'GGT1', 'GGT1', 'GGT1', 'GGT1', 'GGT1', 'GGT1', 'GGT1', 'GGT1', 'GGT1', 'GGT1', 'GGT1', 'GGT1', 'GGT1', 'BCRP3', 'GGT1', 'GGT1', 'GGT1', 'GGT1', 'GGT1', 'GGT1', 'GGT1', 'GGT1', 'GGT1', 'GGT1', 'GGT1', 'GGT1', 'GGT1', 'GGT1', 'BCRP3', 'GGT1', 'GGT1', 'GGT1', 'GGT1', 'GGT1', 'GGT1', 'GGT1', 'GGT1', 'GGT1', 'GGT1', 'GGT1', 'GGT1', 'GGT1', 'GGT1', 'BCRP3', 'GGT1', 'GGT1', 'CRYBA4', 'CRYBA4', 'TCN2', 'TCN2', 'TCN2', 'TCN2', 'TCN2', 'TCN2', 'TCN2', 'RFPL2', 'RFPL2', 'RFPL2', 'RFPL2', 'RFPL2', 'SLC5A4', 'RP1-90G24.10', 'DNAL4', 'DNAL4', 'SUN2', 'DNAL4', 'DNAL4', 'MCHR1', 'MCHR1', 'MCHR1', 'MCHR1', 'ZC3H7B', 'ZC3H7B', 'ZC3H7B', 'POLR3H', 'POLR3H', 'POLR3H', 'POLR3H', 'POLR3H', 'POLR3H', 'POLR3H', 'POLR3H', 'POLR3H', 'SERHL2', 'SERHL2', 'SERHL2', 'RRP7B', 'SERHL2', 'SERHL2', 'RRP7B', 'RRP7B', 'RRP7B', 'SERHL2', 'RNU6-513P', 'SERHL2', 'SERHL2', 'RRP7B', 'CELSR1', 'CELSR1', 'CELSR1', 'RP3-439F8.1', 'CELSR1', 'CELSR1', 'MAPK12', 'HDAC10', 'TUBGCP6', 'HDAC10', 'MAPK12', 'HDAC10', 'HDAC10', 'TUBGCP6', 'HDAC10', 'HDAC10', 'MAPK12', 'HDAC10', 'HDAC10', 'HDAC10', 'HDAC10', 'HDAC10', 'HDAC10', 'HDAC10', 'HDAC10', 'HDAC10', 'MAPK12', 'HDAC10', 'HDAC10', 'HDAC10', 'MAPK12', 'HDAC10', 'HDAC10', 'HDAC10', 'TUBGCP6', 'PLXNB2', 'PLXNB2', 'PLXNB2', 'PLXNB2', 'PLXNB2', 'PLXNB2', 'PLXNB2', 'PLXNB2', 'PLXNB2', 'PLXNB2', 'PLXNB2', 'SBF1', 'SBF1', 'SBF1', 'SBF1', 'SBF1', 'KLHDC7B', 'SYCE3', 'SYCE3', 'CTA-384D8.31', 'KLHDC7B', 'SYCE3', 'SYCE3', 'CTA-384D8.31', 'ARSE', 'ARSE', 'ARSE', 'ARSE', 'TAB3', 'TAB3', 'TAB3', 'TAB3', 'TAB3-AS2', 'TAB3', 'FAM47C', 'FAM104B', 'FAM104B', 'FAM104B', 'FAM104B', 'FAM104B', 'FAM104B', 'FAM104B', 'FAM104B', 'FAM104B', 'FAM104B', 'FAM104B', 'FAM104B', 'FAM104B', 'FAM104B', 'EDA', 'EDA', 'EDA', 'EDA', 'EDA', 'EDA', 'EDA', 'EDA', 'EDA', 'EDA', 'EDA', 'EDA', '5S_rRNA', 'MAGEE1', 'ESX1', 'FRMPD3', 'FRMPD3-AS1', 'FRMPD3', 'FRMPD3', 'ATP2B3', 'ATP2B3', 'ATP2B3', 'ATP2B3', 'ATP2B3', 'ATP2B3', 'ATP2B3', 'ATP2B3', 'ATP2B3', 'ATP2B3', 'ATP2B3', 'ATP2B3', 'AVPR2', 'ARHGAP4', 'AVPR2', 'ARHGAP4', 'ARHGAP4', 'AVPR2', 'ARHGAP4', 'ARHGAP4', 'ARHGAP4', 'ARHGAP4', 'AVPR2', 'AVPR2', 'ARHGAP4', 'ARHGAP4', 'ARHGAP4', 'ARHGAP4', 'L1CAM', 'ARHGAP4', 'ARHGAP4', 'ARHGAP4', 'ARHGAP4', 'ARHGAP4', 'ARHGAP4', 'ARHGAP4', 'AVPR2', 'ARHGAP4', 'AVPR2', 'ARHGAP4', 'ARHGAP4', 'AVPR2', 'ARHGAP4', 'ARHGAP4', 'ARHGAP4', 'ARHGAP4', 'AVPR2', 'AVPR2', 'ARHGAP4', 'ARHGAP4', 'ARHGAP4', 'ARHGAP4', 'L1CAM', 'ARHGAP4', 'ARHGAP4', 'ARHGAP4', 'ARHGAP4', 'ARHGAP4', 'ARHGAP4', 'ARHGAP4', 'FLNA', 'FLNA', 'FLNA', 'FLNA', 'FLNA', 'FLNA', 'FLNA', 'FLNA', 'FLNA', 'FLNA', '']\n"
     ]
    }
   ],
   "source": [
    "with open('/Users/liyaqi/test.txt') as f:\n",
    "    list = f.read().split(',')\n",
    "    print(list)"
   ]
  },
  {
   "cell_type": "code",
   "execution_count": 12,
   "id": "85a0a068-600c-42b2-8e7f-b27539968263",
   "metadata": {},
   "outputs": [
    {
     "name": "stdout",
     "output_type": "stream",
     "text": [
      "<_io.TextIOWrapper name='/Users/liyaqi/test.txt' mode='r' encoding='UTF-8'>\n"
     ]
    }
   ],
   "source": [
    "str(r)"
   ]
  },
  {
   "cell_type": "code",
   "execution_count": null,
   "id": "8bc1dead-ad00-4f6a-84c7-ac157f3a0af8",
   "metadata": {},
   "outputs": [],
   "source": []
  }
 ],
 "metadata": {
  "kernelspec": {
   "display_name": "Python 3 (ipykernel)",
   "language": "python",
   "name": "python3"
  },
  "language_info": {
   "codemirror_mode": {
    "name": "ipython",
    "version": 3
   },
   "file_extension": ".py",
   "mimetype": "text/x-python",
   "name": "python",
   "nbconvert_exporter": "python",
   "pygments_lexer": "ipython3",
   "version": "3.10.7"
  }
 },
 "nbformat": 4,
 "nbformat_minor": 5
}
