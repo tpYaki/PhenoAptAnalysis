{
 "cells": [
  {
   "cell_type": "code",
   "execution_count": 8,
   "id": "bf6f7fbd-bdca-4690-8f8d-92969f253d4b",
   "metadata": {},
   "outputs": [],
   "source": [
    "b_dict ={}\n",
    "a= ['a','b']\n",
    "b_dict['c']=a \n",
    "b_dict\n",
    "b_dict['d'] = a+a"
   ]
  },
  {
   "cell_type": "code",
   "execution_count": 7,
   "id": "e2cda7e8-66bc-4383-8a5c-ffdf2ec50194",
   "metadata": {},
   "outputs": [
    {
     "data": {
      "text/plain": [
       "['a', 'b', 'a', 'b']"
      ]
     },
     "execution_count": 9,
     "metadata": {},
     "output_type": "execute_result"
    }
   ],
   "source": [
    "b_dict['c']"
   ]
  },
  {
   "cell_type": "code",
   "execution_count": 28,
   "id": "17dcdd7d-e7ec-48e6-9b5d-5c6643afa817",
   "metadata": {},
   "outputs": [],
   "source": [
    "# Custom module paths\n",
    "\n",
    "from script.process_file_script import *\n",
    "from script.functions import *\n",
    "from script.file_prepare_script import *\n",
    "from script.Integrated_tools import *"
   ]
  },
  {
   "cell_type": "code",
   "execution_count": 21,
   "id": "7f057682-c86f-4108-bb44-eac0861735b5",
   "metadata": {},
   "outputs": [
    {
     "name": "stdout",
     "output_type": "stream",
     "text": [
      "Adding extra dir to sys.path: /Users/liyaqi/PycharmProjects\n",
      "['/Users/liyaqi/PycharmProjects/PhenoAptAnalysis', '/Users/liyaqi/.pyenv/versions/3.10.7/lib/python310.zip', '/Users/liyaqi/.pyenv/versions/3.10.7/lib/python3.10', '/Users/liyaqi/.pyenv/versions/3.10.7/lib/python3.10/lib-dynload', '', '/Users/liyaqi/.pyenv/versions/3.10.7/envs/jupyterlab/lib/python3.10/site-packages', '/Users/liyaqi/.pyenv/versions/3.10.7/envs/jupyterlab/lib/python3.10/site-packages/aeosa', '/Users/liyaqi/PycharmProjects', '/Users/liyaqi/PycharmProjects', '/Users/liyaqi/PycharmProjects']\n"
     ]
    },
    {
     "ename": "ImportError",
     "evalue": "cannot import name 'Phrank' from 'phrank' (unknown location)",
     "output_type": "error",
     "traceback": [
      "\u001b[0;31m---------------------------------------------------------------------------\u001b[0m",
      "\u001b[0;31mImportError\u001b[0m                               Traceback (most recent call last)",
      "Cell \u001b[0;32mIn [21], line 9\u001b[0m\n\u001b[1;32m      6\u001b[0m \u001b[38;5;28mprint\u001b[39m(sys\u001b[38;5;241m.\u001b[39mpath)\n\u001b[1;32m      8\u001b[0m \u001b[38;5;28;01mfrom\u001b[39;00m \u001b[38;5;21;01mscript\u001b[39;00m\u001b[38;5;21;01m.\u001b[39;00m\u001b[38;5;21;01mprocess_file_script\u001b[39;00m \u001b[38;5;28;01mimport\u001b[39;00m \u001b[38;5;241m*\u001b[39m\n\u001b[0;32m----> 9\u001b[0m \u001b[38;5;28;01mfrom\u001b[39;00m \u001b[38;5;21;01mscript\u001b[39;00m\u001b[38;5;21;01m.\u001b[39;00m\u001b[38;5;21;01mfunctions\u001b[39;00m \u001b[38;5;28;01mimport\u001b[39;00m \u001b[38;5;241m*\u001b[39m\n\u001b[1;32m     10\u001b[0m \u001b[38;5;28;01mfrom\u001b[39;00m \u001b[38;5;21;01mscript\u001b[39;00m\u001b[38;5;21;01m.\u001b[39;00m\u001b[38;5;21;01mfile_prepare_script\u001b[39;00m \u001b[38;5;28;01mimport\u001b[39;00m \u001b[38;5;241m*\u001b[39m\n\u001b[1;32m     11\u001b[0m \u001b[38;5;28;01mfrom\u001b[39;00m \u001b[38;5;21;01mscript\u001b[39;00m\u001b[38;5;21;01m.\u001b[39;00m\u001b[38;5;21;01mIntegrated_tools\u001b[39;00m \u001b[38;5;28;01mimport\u001b[39;00m \u001b[38;5;241m*\u001b[39m\n",
      "File \u001b[0;32m~/PycharmProjects/PhenoAptAnalysis/script/functions.py:29\u001b[0m\n\u001b[1;32m     26\u001b[0m \u001b[38;5;28;01mfrom\u001b[39;00m \u001b[38;5;21;01mscript\u001b[39;00m\u001b[38;5;21;01m.\u001b[39;00m\u001b[38;5;21;01mfile_prepare_script\u001b[39;00m \u001b[38;5;28;01mimport\u001b[39;00m dir_of_Filtered_TSV_MUltiple_source\n\u001b[1;32m     27\u001b[0m \u001b[38;5;28;01mfrom\u001b[39;00m \u001b[38;5;21;01mscript\u001b[39;00m\u001b[38;5;21;01m.\u001b[39;00m\u001b[38;5;21;01mprocess_file_script\u001b[39;00m \u001b[38;5;28;01mimport\u001b[39;00m get_case_id_file\n\u001b[0;32m---> 29\u001b[0m \u001b[38;5;28;01mfrom\u001b[39;00m \u001b[38;5;21;01mphrank\u001b[39;00m \u001b[38;5;28;01mimport\u001b[39;00m Phrank\n\u001b[1;32m     31\u001b[0m \u001b[38;5;28;01mdef\u001b[39;00m \u001b[38;5;21moutput_columns\u001b[39m(hpo,tools,intersect,REVEL_thresh,CADD_thresh):\n\u001b[1;32m     32\u001b[0m     columns_fill \u001b[38;5;241m=\u001b[39m [\u001b[38;5;124m'\u001b[39m\u001b[38;5;124mCaseID\u001b[39m\u001b[38;5;124m'\u001b[39m, \u001b[38;5;124m'\u001b[39m\u001b[38;5;124mhpo\u001b[39m\u001b[38;5;124m'\u001b[39m, \u001b[38;5;124m'\u001b[39m\u001b[38;5;124mhpo_id_input\u001b[39m\u001b[38;5;124m'\u001b[39m, \u001b[38;5;124m'\u001b[39m\u001b[38;5;124mSymbol\u001b[39m\u001b[38;5;124m'\u001b[39m]\n",
      "\u001b[0;31mImportError\u001b[0m: cannot import name 'Phrank' from 'phrank' (unknown location)"
     ]
    }
   ],
   "source": [
    "filename = 'scoliosis_gVCF_from_zs_updating'\n",
    "pwd = '/Users/liyaqi/PycharmProjects/PhenoAptAnalysis'\n",
    "df = read_gvcf_diagnosis_xlsx('/Users/liyaqi/Documents/生信/gVCF-2022-确诊.xlsx')\n",
    "    \n",
    "def statistic_to_table(df,pwd,filename,hpo,tools,intersect,REVEL_thresh,CADD_thresh):\n",
    "    case_ids=df['Blood ID']\n",
    "    columns_fill = output_columns(hpo,tools,intersect,REVEL_thresh,CADD_thresh)\n",
    "    part_table = pd.DataFrame(columns=columns_fill)\n",
    "    part_rr_table = pd.DataFrame(columns=columns_fill+['Frequency','Variant_class','Inheritance_ADAR',f'{hpo}_organ_system',f'{hpo}_organ_system_number'])\n",
    "    case_id_exomiser_tsv_file_dict = get_case_id_integ_file_map(pwd, filename, 'Exomiser', case_ids, hpo)\n",
    "    case_id_LIRICAL_tsv_file_dict = get_case_id_integ_file_map(pwd, filename, 'LIRICAL', case_ids, hpo)\n",
    "    part_table_for_R = pd.DataFrame(columns=columns_fill)\n",
    "    part_rr_table_for_R = pd.DataFrame(columns=columns_fill+['Frequency','Variant_class','Inheritance_ADAR',f'{hpo}_organ_system',f'{hpo}_organ_system_number'])\n",
    "    ##for R是后面去掉NA的。\n",
    "\n",
    "    for i in tqdm(range(len(df))):\n",
    "\n",
    "        if df.loc[i, hpo][0] == '[':\n",
    "            hpo_id = df.loc[i, hpo][2:-2]\n",
    "            hpo_id_input = [k for k in hpo_id.split(\"', '\")]\n",
    "        else:\n",
    "            hpo_id = df.loc[i, hpo]\n",
    "            hpo_id_input = [k for k in hpo_id.split(\";\")]\n",
    "        symbol = df.loc[i, \"Symbol\"]\n",
    "        entrezGeneId = df.loc[i, 'entrezGeneId']\n",
    "        ## NCBIGene:6911 entrezGeneId的格式\n",
    "        entrezId = df.loc[i, 'entrezId']\n",
    "        ensemblid = df.loc[i, 'Ensembl Gene ID']\n",
    "        print(ensemblid)\n",
    "        case_id = df.loc[i, 'Blood ID']\n",
    "        inheritance = df.loc[i,'Inheritance_ADAR']\n",
    "        HGNCid=str(int(df.loc[i,'HGNC']))\n",
    "\n",
    "        filedir,tsv_source_mode = dir_of_Filtered_TSV_MUltiple_source(pwd,filename,case_id)\n",
    "        if tsv_source_mode=='no Filtered TSV anywhere':\n",
    "            print(f'{case_id} no tsv file')\n",
    "            continue\n",
    "\n",
    "        tsv_candidate_gene_SYMBOL_list = pd.read_csv(f'{pwd}/{filename}/candidategene/{case_id}.txt', sep=\"\\t\")\n",
    "        tsv_candidate_gene_HGNCid_list = pd.read_csv(f'{pwd}/{filename}/candidategene_hgncid/{case_id}.txt', sep=\"\\t\")\n",
    "        tsv_candidate_gene_ensemblid_list = pd.read_csv(f'{pwd}/{filename}/candidategene_ensemblid/{case_id}.txt', sep=\"\\t\")\n",
    "\n",
    "        if len(REVEL_thresh)!=0:\n",
    "            tsv_candidate_gene_SYMBOL_revel_dict =  {}\n",
    "            tsv_candidate_gene_HGNCid_revel_dict = {}\n",
    "            tsv_candidate_gene_ensemblid_revel_dict = {}\n",
    "            for thresh in REVEL_thresh:\n",
    "                tsv_candidate_gene_SYMBOL_revel_dict[thresh] =  pd.read_csv(f'{pwd}/{filename}/revel_{thresh}/{case_id}.txt', sep=\"\\t\")[0]\n",
    "                tsv_candidate_gene_HGNCid_revel_dict[thresh] = pd.read_csv(f'{pwd}/{filename}/revel_{thresh}_hgncid/{case_id}.txt', sep=\"\\t\")[0]\n",
    "                tsv_candidate_gene_ensemblid_revel_dict[thresh] = pd.read_csv(f'{pwd}/{filename}/revel_{thresh}_ensemblid/{case_id}.txt', sep=\"\\t\")[0]\n",
    "\n",
    "        if len(CADD_thresh)!=0:\n",
    "            tsv_candidate_gene_SYMBOL_cadd_dict ={}\n",
    "            tsv_candidate_gene_HGNCid_cadd_dict = {}\n",
    "            tsv_candidate_gene_ensemblid_cadd_dict = {}\n",
    "            for thresh in CADD_thresh:\n",
    "                tsv_candidate_gene_SYMBOL_cadd_dict[thresh] = pd.read_csv(f'{pwd}/{filename}/cadd_{thresh}/{case_id}.txt', sep=\"\\t\")[0]\n",
    "                tsv_candidate_gene_HGNCid_cadd_dict[thresh] = pd.read_csv(f'{pwd}/{filename}/cadd_{thresh}_hgncid/{case_id}.txt', sep=\"\\t\")[0]\n",
    "                tsv_candidate_gene_ensemblid_cadd_dict[thresh] = pd.read_csv(f'{pwd}/{filename}/cadd_{thresh}_ensemblid/{case_id}.txt', sep=\"\\t\")[0]\n",
    "\n",
    "        part_table.loc[i, 'CaseID'] = case_id\n",
    "        part_table.loc[i, 'hpo'] = hpo\n",
    "        part_table.loc[i, 'hpo_id_input'] = f'{hpo_id_input}'\n",
    "        part_table.loc[i, 'Symbol'] = symbol\n",
    "        part_rr_table.loc[i, 'CaseID'] = case_id\n",
    "        part_rr_table.loc[i, 'hpo'] = hpo\n",
    "        part_rr_table.loc[i, 'hpo_id_input'] = f'{hpo_id_input}'\n",
    "        part_rr_table.loc[i, 'Symbol'] = symbol\n",
    "        part_rr_table.loc[i, 'Frequency'] = df.loc[i,'Frequency']\n",
    "        part_rr_table.loc[i, 'Variant_class'] = df.loc[i, 'Variant_class']\n",
    "        part_rr_table.loc[i, 'Inheritance_ADAR'] = df.loc[i, 'Inheritance_ADAR']\n",
    "        part_rr_table.loc[i, f'{hpo}_organ_system'] =df.loc[i,f'{hpo}_organ_system']\n",
    "        #part_rr_table.loc[i, f'{hpo}_organ_system_number'] = df.loc[i, f'{hpo}_organ_system_number']\n",
    "\n",
    "        if 'PhenoGenius' in tools:\n",
    "            PhenoGenius_rank_tsv = pd.read_csv(f'{pwd}/{filename}/{hpo}_Phenogenius_output', sep='\\t')\n",
    "            PhenoGenius_gene_SYMBOL_list = list(PhenoGenius_rank_tsv['gene_symbol'])\n",
    "            part_table.loc[i,'PhenoGenius_rank'],part_rr_table.loc[i,'PhenoGenius_rank'] = get_rank(symbol,PhenoGenius_gene_SYMBOL_list)\n",
    "            if intersect:\n",
    "                PhenoGenius_gene_SYMBOL_intersect_list = PhenoGenius_gene_SYMBOL_list[PhenoGenius_gene_SYMBOL_list.isin(tsv_candidate_gene_SYMBOL_list)]\n",
    "                part_table.loc[i, 'PhenoGenius_intersect_rank'], part_rr_table.loc[i, 'PhenoGenius_intersect_rank'] = get_rank(symbol,PhenoGenius_gene_SYMBOL_intersect_list)\n",
    "            if len(REVEL_thresh)!=0:\n",
    "                for thresh in REVEL_thresh:\n",
    "                    PhenoGenius_gene_SYMBOL_revel_list = PhenoGenius_gene_SYMBOL_list[PhenoGenius_gene_SYMBOL_list.isin(tsv_candidate_gene_SYMBOL_revel_dict[thresh])]\n",
    "                    part_table.loc[i, f'PhenoGenius_rank_REVEL_{thresh}'], part_rr_table.loc[i, f'PhenoGenius_rank_REVEL_{thresh}'] = get_rank(symbol,PhenoGenius_gene_SYMBOL_revel_list)\n",
    "            if len(CADD_thresh)!=0:\n",
    "                for thresh in CADD_thresh:\n",
    "                    PhenoGenius_gene_SYMBOL_cadd_list = PhenoGenius_gene_SYMBOL_list[\n",
    "                        PhenoGenius_gene_SYMBOL_list.isin(tsv_candidate_gene_SYMBOL_cadd_dict[thresh])]\n",
    "                    part_table.loc[i, f'PhenoGenius_rank_CADD_{thresh}'], part_rr_table.loc[i, f'PhenoGenius_rank_CADD_{thresh}'] = get_rank(symbol,\n",
    "                                                                                                               PhenoGenius_gene_SYMBOL_cadd_list)\n",
    "\n",
    "        \n",
    "\n",
    "    part_table.to_csv(f'{hpo}_{len(tools)}_rank_len_{len(df)}.tsv', sep='\\t')\n",
    "    part_rr_table.to_csv(f'{hpo}_{len(tools)}_rr_len_{len(df)}.tsv', sep='\\t')\n",
    "    part_table_for_R.to_csv(f'{hpo}_{len(tools)}_rank_with_vcf_len_{len(df)}.tsv', sep='\\t')\n",
    "    part_rr_table_for_R.to_csv(f'{hpo}_{len(tools)}_rr_with_vcf_len_{len(df)}.tsv', sep='\\t')\n"
   ]
  },
  {
   "cell_type": "code",
   "execution_count": 20,
   "id": "b9d74fbf-6b41-481c-8a81-e136e6e86cf3",
   "metadata": {},
   "outputs": [
    {
     "name": "stdout",
     "output_type": "stream",
     "text": [
      "Requirement already satisfied: phenoapt in /Users/liyaqi/.pyenv/versions/3.10.7/envs/jupyterlab/lib/python3.10/site-packages (0.1.6)\n",
      "Requirement already satisfied: suds in /Users/liyaqi/.pyenv/versions/3.10.7/envs/jupyterlab/lib/python3.10/site-packages (1.1.2)\n",
      "Requirement already satisfied: scikit-allel in /Users/liyaqi/.pyenv/versions/3.10.7/envs/jupyterlab/lib/python3.10/site-packages (1.3.5)\n",
      "Collecting obonet\n",
      "  Downloading obonet-0.3.1-py3-none-any.whl (8.6 kB)\n",
      "Requirement already satisfied: requests in /Users/liyaqi/.pyenv/versions/3.10.7/envs/jupyterlab/lib/python3.10/site-packages (from phenoapt) (2.28.1)\n",
      "Requirement already satisfied: tabulate in /Users/liyaqi/.pyenv/versions/3.10.7/envs/jupyterlab/lib/python3.10/site-packages (from phenoapt) (0.9.0)\n",
      "Requirement already satisfied: Click>=7.0 in /Users/liyaqi/.pyenv/versions/3.10.7/envs/jupyterlab/lib/python3.10/site-packages (from phenoapt) (8.1.3)\n",
      "Requirement already satisfied: numpy in /Users/liyaqi/.pyenv/versions/3.10.7/envs/jupyterlab/lib/python3.10/site-packages (from scikit-allel) (1.23.4)\n",
      "Requirement already satisfied: dask[array] in /Users/liyaqi/.pyenv/versions/3.10.7/envs/jupyterlab/lib/python3.10/site-packages (from scikit-allel) (2022.10.2)\n",
      "Requirement already satisfied: networkx in /Users/liyaqi/.pyenv/versions/3.10.7/envs/jupyterlab/lib/python3.10/site-packages (from obonet) (2.8.7)\n",
      "Requirement already satisfied: cloudpickle>=1.1.1 in /Users/liyaqi/.pyenv/versions/3.10.7/envs/jupyterlab/lib/python3.10/site-packages (from dask[array]->scikit-allel) (2.2.0)\n",
      "Requirement already satisfied: fsspec>=0.6.0 in /Users/liyaqi/.pyenv/versions/3.10.7/envs/jupyterlab/lib/python3.10/site-packages (from dask[array]->scikit-allel) (2022.11.0)\n",
      "Requirement already satisfied: toolz>=0.8.2 in /Users/liyaqi/.pyenv/versions/3.10.7/envs/jupyterlab/lib/python3.10/site-packages (from dask[array]->scikit-allel) (0.12.0)\n",
      "Requirement already satisfied: packaging>=20.0 in /Users/liyaqi/.pyenv/versions/3.10.7/envs/jupyterlab/lib/python3.10/site-packages (from dask[array]->scikit-allel) (21.3)\n",
      "Requirement already satisfied: partd>=0.3.10 in /Users/liyaqi/.pyenv/versions/3.10.7/envs/jupyterlab/lib/python3.10/site-packages (from dask[array]->scikit-allel) (1.3.0)\n",
      "Requirement already satisfied: pyyaml>=5.3.1 in /Users/liyaqi/.pyenv/versions/3.10.7/envs/jupyterlab/lib/python3.10/site-packages (from dask[array]->scikit-allel) (6.0)\n",
      "Requirement already satisfied: charset-normalizer<3,>=2 in /Users/liyaqi/.pyenv/versions/3.10.7/envs/jupyterlab/lib/python3.10/site-packages (from requests->phenoapt) (2.1.1)\n",
      "Requirement already satisfied: certifi>=2017.4.17 in /Users/liyaqi/.pyenv/versions/3.10.7/envs/jupyterlab/lib/python3.10/site-packages (from requests->phenoapt) (2022.9.24)\n",
      "Requirement already satisfied: idna<4,>=2.5 in /Users/liyaqi/.pyenv/versions/3.10.7/envs/jupyterlab/lib/python3.10/site-packages (from requests->phenoapt) (3.4)\n",
      "Requirement already satisfied: urllib3<1.27,>=1.21.1 in /Users/liyaqi/.pyenv/versions/3.10.7/envs/jupyterlab/lib/python3.10/site-packages (from requests->phenoapt) (1.26.12)\n",
      "Requirement already satisfied: pyparsing!=3.0.5,>=2.0.2 in /Users/liyaqi/.pyenv/versions/3.10.7/envs/jupyterlab/lib/python3.10/site-packages (from packaging>=20.0->dask[array]->scikit-allel) (3.0.9)\n",
      "Requirement already satisfied: locket in /Users/liyaqi/.pyenv/versions/3.10.7/envs/jupyterlab/lib/python3.10/site-packages (from partd>=0.3.10->dask[array]->scikit-allel) (1.0.0)\n",
      "Installing collected packages: obonet\n",
      "Successfully installed obonet-0.3.1\n",
      "\n",
      "\u001b[1m[\u001b[0m\u001b[34;49mnotice\u001b[0m\u001b[1;39;49m]\u001b[0m\u001b[39;49m A new release of pip available: \u001b[0m\u001b[31;49m22.3\u001b[0m\u001b[39;49m -> \u001b[0m\u001b[32;49m22.3.1\u001b[0m\n",
      "\u001b[1m[\u001b[0m\u001b[34;49mnotice\u001b[0m\u001b[1;39;49m]\u001b[0m\u001b[39;49m To update, run: \u001b[0m\u001b[32;49m/Users/liyaqi/.pyenv/versions/3.10.7/envs/jupyterlab/bin/python3.10 -m pip install --upgrade pip\u001b[0m\n",
      "Note: you may need to restart the kernel to use updated packages.\n"
     ]
    }
   ],
   "source": [
    "pip install phenoapt suds scikit-allel obonet"
   ]
  },
  {
   "cell_type": "code",
   "execution_count": null,
   "id": "6f0a1f2a-04fa-486c-ad2d-ff73de54fd8d",
   "metadata": {},
   "outputs": [],
   "source": [
    "xlrd appscript pyyaml phenoapt"
   ]
  }
 ],
 "metadata": {
  "kernelspec": {
   "display_name": "Python 3 (ipykernel)",
   "language": "python",
   "name": "python3"
  },
  "language_info": {
   "codemirror_mode": {
    "name": "ipython",
    "version": 3
   },
   "file_extension": ".py",
   "mimetype": "text/x-python",
   "name": "python",
   "nbconvert_exporter": "python",
   "pygments_lexer": "ipython3",
   "version": "3.10.7"
  }
 },
 "nbformat": 4,
 "nbformat_minor": 5
}
